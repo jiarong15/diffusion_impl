{
 "cells": [
  {
   "cell_type": "code",
   "execution_count": 1,
   "metadata": {},
   "outputs": [],
   "source": [
    "import torch\n",
    "import torch.nn as nn\n",
    "\n",
    "\n",
    "def noise_images(x, t):\n",
    "    beta = torch.linspace(1e-4, 0.02, 1000)\n",
    "    alpha = 1. - beta\n",
    "    alpha_hat = torch.cumprod(alpha, dim=0)\n",
    "\n",
    "    sqrt_alpha_hat = torch.sqrt(alpha_hat[t])[:, None, None, None]\n",
    "    sqrt_one_minus_alpha_hat = torch.sqrt(1. - alpha_hat[t])[:, None, None, None]\n",
    "\n",
    "    epsilon = torch.rand_like(x)\n",
    "    return sqrt_alpha_hat * x + sqrt_one_minus_alpha_hat * epsilon, epsilon\n",
    "\n",
    "\n",
    "def pos_encoding(t, channels):\n",
    "    even_inv_freq = 1.0 / (10000**(torch.arange(0, channels, 2).float() / channels))\n",
    "    odd_inv_freq = 1.0 / (10000**(torch.arange(1, channels, 2).float() / channels))\n",
    "\n",
    "    pos_even_enc_a = torch.sin(t.repeat(1, channels // 2) * even_inv_freq)\n",
    "    pos_odd_enc_b = torch.cos(t.repeat(1, channels // 2) * odd_inv_freq)\n",
    "\n",
    "    pos_enc = torch.cat([pos_even_enc_a, pos_odd_enc_b], dim=-1)\n",
    "    return pos_enc\n"
   ]
  },
  {
   "cell_type": "code",
   "execution_count": 10,
   "metadata": {},
   "outputs": [],
   "source": [
    "t = torch.randint(low=1, high=1000, size=(5,))\n",
    "images = torch.randn(5, 64, 64)\n",
    "x_t, noise = noise_images(images, t)\n",
    "# x_t shape is (5,5,64,64)\n",
    "# noise shape is (5,64,64)"
   ]
  },
  {
   "cell_type": "code",
   "execution_count": 11,
   "metadata": {},
   "outputs": [],
   "source": [
    "time_dim, emb_dim = 256, 256\n",
    "out_channels = 128\n",
    "t = t.unsqueeze(-1).type(torch.float)\n",
    "t = pos_encoding(t, time_dim) # (5,256)"
   ]
  },
  {
   "cell_type": "code",
   "execution_count": 17,
   "metadata": {},
   "outputs": [
    {
     "data": {
      "text/plain": [
       "torch.Size([5, 128])"
      ]
     },
     "execution_count": 17,
     "metadata": {},
     "output_type": "execute_result"
    }
   ],
   "source": [
    "emb_layer = nn.Sequential(nn.SiLU(),nn.Linear(emb_dim, out_channels))\n",
    "emb_layer(t)"
   ]
  },
  {
   "cell_type": "code",
   "execution_count": 16,
   "metadata": {},
   "outputs": [
    {
     "data": {
      "text/plain": [
       "torch.Size([5, 5, 64, 64])"
      ]
     },
     "execution_count": 16,
     "metadata": {},
     "output_type": "execute_result"
    }
   ],
   "source": [
    "x_t.shape"
   ]
  },
  {
   "cell_type": "code",
   "execution_count": 19,
   "metadata": {},
   "outputs": [
    {
     "data": {
      "text/plain": [
       "torch.Size([80, 256, 5])"
      ]
     },
     "execution_count": 19,
     "metadata": {},
     "output_type": "execute_result"
    }
   ],
   "source": [
    "channels = 5\n",
    "size = 16\n",
    "\n",
    "x_t.view(-1, channels, size * size).swapaxes(1,2).shape\n",
    "# "
   ]
  },
  {
   "cell_type": "code",
   "execution_count": 21,
   "metadata": {},
   "outputs": [],
   "source": [
    "layer = nn.LayerNorm([5])\n",
    "x = torch.randn(5, 5, 64, 64)\n",
    "k = torch.randn(80,256,5)\n",
    "layer(k).shape\n",
    "self_mha = nn.MultiheadAttention(5, 5, batch_first=True)\n",
    "self_mha(k,k,k)[0] + k\n",
    "\n",
    "ff_self = nn.Sequential(\n",
    "    nn.LayerNorm([5]),\n",
    "    nn.Linear(5, 5),\n",
    "    nn.GELU(),\n",
    "    nn.Linear(5, 5)\n",
    ")"
   ]
  },
  {
   "cell_type": "code",
   "execution_count": 28,
   "metadata": {},
   "outputs": [
    {
     "data": {
      "text/plain": [
       "torch.Size([80, 5, 16, 16])"
      ]
     },
     "execution_count": 28,
     "metadata": {},
     "output_type": "execute_result"
    }
   ],
   "source": [
    "# ff_self(self_mha(k,k,k)[0] + k).shape\n",
    "# \n",
    "torch.randn(80,256,5).swapaxes(2, 1).view(-1, 5, 16, 16).shape"
   ]
  },
  {
   "cell_type": "code",
   "execution_count": 32,
   "metadata": {},
   "outputs": [],
   "source": [
    "all_images_in_this_epoch = torch.tensor(())"
   ]
  },
  {
   "cell_type": "code",
   "execution_count": 31,
   "metadata": {},
   "outputs": [
    {
     "data": {
      "text/plain": [
       "torch.Size([64, 64])"
      ]
     },
     "execution_count": 31,
     "metadata": {},
     "output_type": "execute_result"
    }
   ],
   "source": [
    "image1 = images[0]\n",
    "image2 = images[1]\n",
    "image2.shape"
   ]
  },
  {
   "cell_type": "code",
   "execution_count": 33,
   "metadata": {},
   "outputs": [
    {
     "data": {
      "text/plain": [
       "tensor([[[ 1.2888,  0.1140, -0.6094,  ..., -0.3752,  0.6831,  1.4313],\n",
       "         [-1.7713, -0.4711, -0.8615,  ...,  0.6954,  0.1747,  0.4515],\n",
       "         [-1.9272, -1.3402,  0.0332,  ..., -0.1877,  1.4132,  1.6464],\n",
       "         ...,\n",
       "         [ 1.1612,  1.2506,  0.5571,  ..., -0.2541, -0.2183, -0.1054],\n",
       "         [ 1.2593,  1.2331,  0.4734,  ..., -0.7725,  0.1185,  0.7151],\n",
       "         [-0.9877,  1.6190, -0.4728,  ..., -2.0086,  0.4671,  2.1848]],\n",
       "\n",
       "        [[ 0.1141,  0.6522,  0.6613,  ..., -1.0417,  0.0193,  0.6993],\n",
       "         [ 0.8225,  1.3465,  0.6460,  ..., -1.8531,  1.6483, -0.4997],\n",
       "         [-0.9926, -0.6115, -0.5745,  ..., -0.3355, -0.1471, -0.8726],\n",
       "         ...,\n",
       "         [-0.5540,  0.4068,  1.1737,  ..., -0.4305, -1.6232,  0.9602],\n",
       "         [ 0.3567,  1.0157,  0.5524,  ...,  0.1461,  1.5089,  0.1806],\n",
       "         [ 0.3242,  0.8523, -0.2997,  ...,  1.0955,  0.6705,  0.0528]],\n",
       "\n",
       "        [[-0.3678, -0.2385,  1.3402,  ...,  1.2366, -0.6441, -1.3400],\n",
       "         [ 0.2337,  0.9571, -1.3031,  ...,  0.4202, -1.5278,  0.4948],\n",
       "         [-0.0733,  0.5814,  0.3032,  ..., -1.3582,  0.2720,  0.6611],\n",
       "         ...,\n",
       "         [-0.5542, -0.5165,  0.1784,  ..., -0.9169,  1.2421, -1.3530],\n",
       "         [-0.1429,  2.3981,  1.0114,  ...,  1.5377,  0.2424, -0.0187],\n",
       "         [-1.2636,  1.7163, -1.4381,  ..., -0.4820,  0.0456, -1.4905]],\n",
       "\n",
       "        [[-0.0486,  0.8278, -0.9738,  ...,  0.2968,  0.2073, -1.4151],\n",
       "         [-0.1129, -0.2540,  0.5296,  ...,  0.0943, -0.0457,  0.4352],\n",
       "         [-0.1886, -0.2283,  1.0737,  ...,  2.5899, -0.8886, -0.0528],\n",
       "         ...,\n",
       "         [ 0.1238, -1.0191,  1.5297,  ..., -1.8330, -1.2786,  1.0597],\n",
       "         [ 0.6922, -0.2543,  0.0912,  ..., -0.4245, -1.6833,  0.9423],\n",
       "         [-0.5833, -1.2478,  1.3565,  ...,  0.0930, -0.3680, -0.0851]],\n",
       "\n",
       "        [[ 1.1284,  0.1236,  1.0441,  ...,  0.9731,  0.7413, -1.1312],\n",
       "         [-1.8159, -0.7687,  1.4914,  ..., -0.3601,  1.2763, -1.6114],\n",
       "         [ 0.8527, -0.2204, -0.5857,  ..., -1.8552,  0.6912,  0.9213],\n",
       "         ...,\n",
       "         [-1.7404,  1.0601, -0.5053,  ..., -0.5353, -0.1101, -0.2007],\n",
       "         [ 1.4609, -1.1010,  0.3357,  ...,  0.3053, -0.0681, -0.0185],\n",
       "         [ 0.1591,  0.3912,  0.8791,  ...,  0.1867,  0.3168, -0.2360]]])"
      ]
     },
     "execution_count": 33,
     "metadata": {},
     "output_type": "execute_result"
    }
   ],
   "source": [
    "all_images_in_this_epoch = torch.cat((all_images_in_this_epoch, images), 0)\n",
    "all_images_in_this_epoch"
   ]
  },
  {
   "cell_type": "code",
   "execution_count": 30,
   "metadata": {},
   "outputs": [
    {
     "data": {
      "text/plain": [
       "tensor([[ 1.2888,  0.1140, -0.6094,  ..., -0.3752,  0.6831,  1.4313],\n",
       "        [-1.7713, -0.4711, -0.8615,  ...,  0.6954,  0.1747,  0.4515],\n",
       "        [-1.9272, -1.3402,  0.0332,  ..., -0.1877,  1.4132,  1.6464],\n",
       "        ...,\n",
       "        [-0.5540,  0.4068,  1.1737,  ..., -0.4305, -1.6232,  0.9602],\n",
       "        [ 0.3567,  1.0157,  0.5524,  ...,  0.1461,  1.5089,  0.1806],\n",
       "        [ 0.3242,  0.8523, -0.2997,  ...,  1.0955,  0.6705,  0.0528]])"
      ]
     },
     "execution_count": 30,
     "metadata": {},
     "output_type": "execute_result"
    }
   ],
   "source": [
    "all_images_in_this_epoch = torch.cat((all_images_in_this_epoch, image2), -2)\n",
    "all_images_in_this_epoch"
   ]
  },
  {
   "cell_type": "code",
   "execution_count": 1,
   "metadata": {},
   "outputs": [
    {
     "name": "stderr",
     "output_type": "stream",
     "text": [
      "/workspaces/codespaces-blank/venv/lib/python3.10/site-packages/tqdm/auto.py:21: TqdmWarning: IProgress not found. Please update jupyter and ipywidgets. See https://ipywidgets.readthedocs.io/en/stable/user_install.html\n",
      "  from .autonotebook import tqdm as notebook_tqdm\n"
     ]
    },
    {
     "data": {
      "text/plain": [
       "DatasetDict({\n",
       "    train: Dataset({\n",
       "        features: ['img', 'label'],\n",
       "        num_rows: 50000\n",
       "    })\n",
       "    test: Dataset({\n",
       "        features: ['img', 'label'],\n",
       "        num_rows: 10000\n",
       "    })\n",
       "})"
      ]
     },
     "execution_count": 1,
     "metadata": {},
     "output_type": "execute_result"
    }
   ],
   "source": [
    "from datasets import load_dataset\n",
    "ds = load_dataset(\"uoft-cs/cifar10\")\n",
    "ds"
   ]
  },
  {
   "cell_type": "code",
   "execution_count": null,
   "metadata": {},
   "outputs": [],
   "source": [
    "next(iter(DataLoader(ds['train'], batch_size=12, shuffle=True)))"
   ]
  },
  {
   "cell_type": "code",
   "execution_count": 62,
   "metadata": {},
   "outputs": [
    {
     "data": {
      "text/plain": [
       "torch.Size([3, 32, 32])"
      ]
     },
     "execution_count": 62,
     "metadata": {},
     "output_type": "execute_result"
    }
   ],
   "source": [
    "import torchvision.transforms as transforms\n",
    "\n",
    "imggg = ds['train']['img'][0]\n",
    "transform = transforms.Compose([transforms.ToTensor()])\n",
    "tensor = transform(imggg)\n",
    "tensor.shape"
   ]
  },
  {
   "cell_type": "code",
   "execution_count": null,
   "metadata": {},
   "outputs": [],
   "source": [
    "from torch.utils.data import DataLoader\n",
    "\n",
    "loader = DataLoader(ds['train'], batch_size=12, shuffle=True)\n",
    "for train_features in loader:\n",
    "    print(train_features)\n",
    "    # print(train_labels)"
   ]
  },
  {
   "cell_type": "code",
   "execution_count": 2,
   "metadata": {},
   "outputs": [],
   "source": [
    "import torch\n",
    "# import numpy as np\n",
    "from torch.utils.data import TensorDataset, DataLoader\n",
    "import torchvision.transforms as transforms\n",
    "\n",
    "transform = transforms.Compose([transforms.ToTensor()])\n",
    "\n",
    "tensor_x = torch.stack(list(map(lambda PILimg: transform(PILimg), ds['train']['img'])))\n",
    "tensor_y = torch.Tensor(ds['train']['label'])\n",
    "\n",
    "my_dataset = TensorDataset(tensor_x, tensor_y) # create your datset\n",
    "my_dataloader = DataLoader(my_dataset)"
   ]
  },
  {
   "cell_type": "code",
   "execution_count": 4,
   "metadata": {},
   "outputs": [
    {
     "name": "stdout",
     "output_type": "stream",
     "text": [
      "tensor([[[[0.6980, 0.6980, 0.6980,  ..., 0.6667, 0.6588, 0.6471],\n",
      "          [0.7059, 0.7020, 0.7059,  ..., 0.6784, 0.6706, 0.6588],\n",
      "          [0.6941, 0.6941, 0.6980,  ..., 0.6706, 0.6627, 0.6549],\n",
      "          ...,\n",
      "          [0.4392, 0.4431, 0.4471,  ..., 0.3922, 0.3843, 0.3961],\n",
      "          [0.4392, 0.4392, 0.4431,  ..., 0.4000, 0.4000, 0.4000],\n",
      "          [0.4039, 0.3922, 0.4039,  ..., 0.3608, 0.3647, 0.3569]],\n",
      "\n",
      "         [[0.6902, 0.6902, 0.6902,  ..., 0.6588, 0.6510, 0.6392],\n",
      "          [0.6980, 0.6941, 0.6980,  ..., 0.6706, 0.6627, 0.6510],\n",
      "          [0.6863, 0.6863, 0.6902,  ..., 0.6627, 0.6549, 0.6471],\n",
      "          ...,\n",
      "          [0.4196, 0.4275, 0.4314,  ..., 0.3804, 0.3686, 0.3725],\n",
      "          [0.4000, 0.4039, 0.4039,  ..., 0.3725, 0.3647, 0.3608],\n",
      "          [0.3765, 0.3647, 0.3725,  ..., 0.3294, 0.3373, 0.3294]],\n",
      "\n",
      "         [[0.7412, 0.7412, 0.7412,  ..., 0.7059, 0.6941, 0.6824],\n",
      "          [0.7490, 0.7451, 0.7490,  ..., 0.7137, 0.7059, 0.6941],\n",
      "          [0.7373, 0.7373, 0.7412,  ..., 0.7059, 0.6980, 0.6902],\n",
      "          ...,\n",
      "          [0.4196, 0.4235, 0.4314,  ..., 0.3686, 0.3647, 0.3725],\n",
      "          [0.3961, 0.4000, 0.4039,  ..., 0.3647, 0.3569, 0.3569],\n",
      "          [0.3608, 0.3529, 0.3686,  ..., 0.3137, 0.3137, 0.3020]]]])\n",
      "tensor([0.])\n"
     ]
    }
   ],
   "source": [
    "for train_features, train_labels in my_dataloader:\n",
    "    print(train_features)\n",
    "    print(train_labels)\n",
    "    break"
   ]
  },
  {
   "cell_type": "code",
   "execution_count": 2,
   "metadata": {},
   "outputs": [
    {
     "data": {
      "text/plain": [
       "False"
      ]
     },
     "execution_count": 2,
     "metadata": {},
     "output_type": "execute_result"
    }
   ],
   "source": [
    "import torch\n",
    "torch.cuda.is_available()"
   ]
  },
  {
   "cell_type": "code",
   "execution_count": 11,
   "metadata": {},
   "outputs": [
    {
     "ename": "NotImplementedError",
     "evalue": "Module [newer] is missing the required \"forward\" function",
     "output_type": "error",
     "traceback": [
      "\u001b[0;31m---------------------------------------------------------------------------\u001b[0m",
      "\u001b[0;31mNotImplementedError\u001b[0m                       Traceback (most recent call last)",
      "Cell \u001b[0;32mIn[11], line 59\u001b[0m\n\u001b[1;32m     56\u001b[0m a \u001b[38;5;241m=\u001b[39m newer(\u001b[38;5;241m10\u001b[39m,\u001b[38;5;241m20\u001b[39m)\n\u001b[1;32m     57\u001b[0m \u001b[38;5;66;03m# a.inc[0]\u001b[39;00m\n\u001b[0;32m---> 59\u001b[0m \u001b[43mnn\u001b[49m\u001b[38;5;241;43m.\u001b[39;49m\u001b[43mModuleList\u001b[49m\u001b[43m(\u001b[49m\u001b[43m[\u001b[49m\u001b[43mnewer\u001b[49m\u001b[43m(\u001b[49m\u001b[38;5;241;43m10\u001b[39;49m\u001b[43m,\u001b[49m\u001b[38;5;241;43m687\u001b[39;49m\u001b[43m)\u001b[49m\u001b[43m,\u001b[49m\u001b[43m \u001b[49m\u001b[43mDoubleConv\u001b[49m\u001b[43m(\u001b[49m\u001b[38;5;241;43m456\u001b[39;49m\u001b[43m,\u001b[49m\u001b[43m \u001b[49m\u001b[38;5;241;43m7\u001b[39;49m\u001b[43m)\u001b[49m\u001b[43m]\u001b[49m\u001b[43m)\u001b[49m\u001b[43m[\u001b[49m\u001b[38;5;241;43m0\u001b[39;49m\u001b[43m]\u001b[49m\u001b[43m(\u001b[49m\u001b[43mtorch\u001b[49m\u001b[38;5;241;43m.\u001b[39;49m\u001b[43mrandn\u001b[49m\u001b[43m(\u001b[49m\u001b[38;5;241;43m5\u001b[39;49m\u001b[43m,\u001b[49m\u001b[43m \u001b[49m\u001b[38;5;241;43m10\u001b[39;49m\u001b[43m,\u001b[49m\u001b[43m \u001b[49m\u001b[38;5;241;43m687\u001b[39;49m\u001b[43m)\u001b[49m\u001b[43m)\u001b[49m\n",
      "File \u001b[0;32m/workspaces/diffusion_impl/venv/lib/python3.10/site-packages/torch/nn/modules/module.py:1553\u001b[0m, in \u001b[0;36mModule._wrapped_call_impl\u001b[0;34m(self, *args, **kwargs)\u001b[0m\n\u001b[1;32m   1551\u001b[0m     \u001b[38;5;28;01mreturn\u001b[39;00m \u001b[38;5;28mself\u001b[39m\u001b[38;5;241m.\u001b[39m_compiled_call_impl(\u001b[38;5;241m*\u001b[39margs, \u001b[38;5;241m*\u001b[39m\u001b[38;5;241m*\u001b[39mkwargs)  \u001b[38;5;66;03m# type: ignore[misc]\u001b[39;00m\n\u001b[1;32m   1552\u001b[0m \u001b[38;5;28;01melse\u001b[39;00m:\n\u001b[0;32m-> 1553\u001b[0m     \u001b[38;5;28;01mreturn\u001b[39;00m \u001b[38;5;28;43mself\u001b[39;49m\u001b[38;5;241;43m.\u001b[39;49m\u001b[43m_call_impl\u001b[49m\u001b[43m(\u001b[49m\u001b[38;5;241;43m*\u001b[39;49m\u001b[43margs\u001b[49m\u001b[43m,\u001b[49m\u001b[43m \u001b[49m\u001b[38;5;241;43m*\u001b[39;49m\u001b[38;5;241;43m*\u001b[39;49m\u001b[43mkwargs\u001b[49m\u001b[43m)\u001b[49m\n",
      "File \u001b[0;32m/workspaces/diffusion_impl/venv/lib/python3.10/site-packages/torch/nn/modules/module.py:1562\u001b[0m, in \u001b[0;36mModule._call_impl\u001b[0;34m(self, *args, **kwargs)\u001b[0m\n\u001b[1;32m   1557\u001b[0m \u001b[38;5;66;03m# If we don't have any hooks, we want to skip the rest of the logic in\u001b[39;00m\n\u001b[1;32m   1558\u001b[0m \u001b[38;5;66;03m# this function, and just call forward.\u001b[39;00m\n\u001b[1;32m   1559\u001b[0m \u001b[38;5;28;01mif\u001b[39;00m \u001b[38;5;129;01mnot\u001b[39;00m (\u001b[38;5;28mself\u001b[39m\u001b[38;5;241m.\u001b[39m_backward_hooks \u001b[38;5;129;01mor\u001b[39;00m \u001b[38;5;28mself\u001b[39m\u001b[38;5;241m.\u001b[39m_backward_pre_hooks \u001b[38;5;129;01mor\u001b[39;00m \u001b[38;5;28mself\u001b[39m\u001b[38;5;241m.\u001b[39m_forward_hooks \u001b[38;5;129;01mor\u001b[39;00m \u001b[38;5;28mself\u001b[39m\u001b[38;5;241m.\u001b[39m_forward_pre_hooks\n\u001b[1;32m   1560\u001b[0m         \u001b[38;5;129;01mor\u001b[39;00m _global_backward_pre_hooks \u001b[38;5;129;01mor\u001b[39;00m _global_backward_hooks\n\u001b[1;32m   1561\u001b[0m         \u001b[38;5;129;01mor\u001b[39;00m _global_forward_hooks \u001b[38;5;129;01mor\u001b[39;00m _global_forward_pre_hooks):\n\u001b[0;32m-> 1562\u001b[0m     \u001b[38;5;28;01mreturn\u001b[39;00m \u001b[43mforward_call\u001b[49m\u001b[43m(\u001b[49m\u001b[38;5;241;43m*\u001b[39;49m\u001b[43margs\u001b[49m\u001b[43m,\u001b[49m\u001b[43m \u001b[49m\u001b[38;5;241;43m*\u001b[39;49m\u001b[38;5;241;43m*\u001b[39;49m\u001b[43mkwargs\u001b[49m\u001b[43m)\u001b[49m\n\u001b[1;32m   1564\u001b[0m \u001b[38;5;28;01mtry\u001b[39;00m:\n\u001b[1;32m   1565\u001b[0m     result \u001b[38;5;241m=\u001b[39m \u001b[38;5;28;01mNone\u001b[39;00m\n",
      "File \u001b[0;32m/workspaces/diffusion_impl/venv/lib/python3.10/site-packages/torch/nn/modules/module.py:352\u001b[0m, in \u001b[0;36m_forward_unimplemented\u001b[0;34m(self, *input)\u001b[0m\n\u001b[1;32m    341\u001b[0m \u001b[38;5;28;01mdef\u001b[39;00m \u001b[38;5;21m_forward_unimplemented\u001b[39m(\u001b[38;5;28mself\u001b[39m, \u001b[38;5;241m*\u001b[39m\u001b[38;5;28minput\u001b[39m: Any) \u001b[38;5;241m-\u001b[39m\u001b[38;5;241m>\u001b[39m \u001b[38;5;28;01mNone\u001b[39;00m:\n\u001b[1;32m    342\u001b[0m \u001b[38;5;250m    \u001b[39m\u001b[38;5;124mr\u001b[39m\u001b[38;5;124;03m\"\"\"Define the computation performed at every call.\u001b[39;00m\n\u001b[1;32m    343\u001b[0m \n\u001b[1;32m    344\u001b[0m \u001b[38;5;124;03m    Should be overridden by all subclasses.\u001b[39;00m\n\u001b[0;32m   (...)\u001b[0m\n\u001b[1;32m    350\u001b[0m \u001b[38;5;124;03m        registered hooks while the latter silently ignores them.\u001b[39;00m\n\u001b[1;32m    351\u001b[0m \u001b[38;5;124;03m    \"\"\"\u001b[39;00m\n\u001b[0;32m--> 352\u001b[0m     \u001b[38;5;28;01mraise\u001b[39;00m \u001b[38;5;167;01mNotImplementedError\u001b[39;00m(\u001b[38;5;124mf\u001b[39m\u001b[38;5;124m'\u001b[39m\u001b[38;5;124mModule [\u001b[39m\u001b[38;5;132;01m{\u001b[39;00m\u001b[38;5;28mtype\u001b[39m(\u001b[38;5;28mself\u001b[39m)\u001b[38;5;241m.\u001b[39m\u001b[38;5;18m__name__\u001b[39m\u001b[38;5;132;01m}\u001b[39;00m\u001b[38;5;124m] is missing the required \u001b[39m\u001b[38;5;124m\"\u001b[39m\u001b[38;5;124mforward\u001b[39m\u001b[38;5;124m\"\u001b[39m\u001b[38;5;124m function\u001b[39m\u001b[38;5;124m'\u001b[39m)\n",
      "\u001b[0;31mNotImplementedError\u001b[0m: Module [newer] is missing the required \"forward\" function"
     ]
    }
   ],
   "source": [
    "import torch.nn as nn\n",
    "from torch.nn import functional as F\n",
    "import torch\n",
    "\n",
    "class DoubleConv(nn.Module):\n",
    "    '''\n",
    "    Used in initial convolution of images as well as \n",
    "    at the bottom of the the U shape net.\n",
    "    '''\n",
    "    def __init__(self, in_channels, out_channels, mid_channels=None, residual=False):\n",
    "\n",
    "        super().__init__()\n",
    "        self.residual = residual\n",
    "        self.normalizing_group_num = 1\n",
    "        if not mid_channels:\n",
    "            mid_channels = out_channels\n",
    "        \n",
    "        ## The following layers are applied sequentially in the\n",
    "        ## defined order as follows.\n",
    "        self.double_conv = nn.Sequential(\n",
    "\n",
    "            ## Weights of conv are learned through backpropagation\n",
    "            ## We are transforming the channels number from in_channels to mid_channels\n",
    "            nn.Conv2d(in_channels, mid_channels, kernel_size=3, padding=1, bias=False),\n",
    "\n",
    "            ## We normalize the values group wise by separating the channels\n",
    "            ## the group number. In this case it is 1. Output's shape\n",
    "            ## remains unchanged from the input shape.\n",
    "            nn.GroupNorm(self.normalizing_group_num, mid_channels),\n",
    "\n",
    "            ## Apply Gaussian error linear units\n",
    "            nn.GELU(),\n",
    "\n",
    "            ## We are transforming the channels number from mid_channels to out_channels\n",
    "            nn.Conv2d(mid_channels, out_channels, kernel_size=3, padding=1, bias=False),\n",
    "\n",
    "            ## Perform group normalization once again\n",
    "            ## n×c×w×h -> swh×gn where c = sg\n",
    "            nn.GroupNorm(self.normalizing_group_num, out_channels)\n",
    "        )\n",
    "\n",
    "\n",
    "    def forward(self, x):\n",
    "        ## We apply gelu when we have skip connections to the UNet decoder\n",
    "        if self.residual:\n",
    "            return F.gelu(x + self.double_conv(x))\n",
    "        return self.double_conv(x) \n",
    "    \n",
    "\n",
    "class newer(nn.Module):\n",
    "    def __init__(self, in_channels, out_channels):\n",
    "        super().__init__()\n",
    "        self.inc = DoubleConv(in_channels, out_channels)\n",
    "    \n",
    "\n",
    "a = newer(10,20)\n",
    "# a.inc[0]\n",
    "\n",
    "nn.ModuleList([newer(10,687), DoubleConv(456, 7)])[0](torch.randn(5, 10, 687))\n",
    "\n"
   ]
  },
  {
   "cell_type": "code",
   "execution_count": 16,
   "metadata": {},
   "outputs": [
    {
     "name": "stderr",
     "output_type": "stream",
     "text": [
      "/tmp/ipykernel_17972/32075292.py:1: FutureWarning: You are using `torch.load` with `weights_only=False` (the current default value), which uses the default pickle module implicitly. It is possible to construct malicious pickle data which will execute arbitrary code during unpickling (See https://github.com/pytorch/pytorch/blob/main/SECURITY.md#untrusted-models for more details). In a future release, the default value for `weights_only` will be flipped to `True`. This limits the functions that could be executed during unpickling. Arbitrary objects will no longer be allowed to be loaded via this mode unless they are explicitly allowlisted by the user via `torch.serialization.add_safe_globals`. We recommend you start setting `weights_only=True` for any use case where you don't have full control of the loaded file. Please open an issue on GitHub for any issues related to this experimental feature.\n",
      "  a.load_state_dict(torch.load(PATH), strict=True)\n"
     ]
    },
    {
     "data": {
      "text/plain": [
       "Sequential(\n",
       "  (0): Conv2d(10, 20, kernel_size=(3, 3), stride=(1, 1), padding=(1, 1), bias=False)\n",
       "  (1): GroupNorm(1, 20, eps=1e-05, affine=True)\n",
       "  (2): GELU(approximate='none')\n",
       "  (3): Conv2d(20, 20, kernel_size=(3, 3), stride=(1, 1), padding=(1, 1), bias=False)\n",
       "  (4): GroupNorm(1, 20, eps=1e-05, affine=True)\n",
       ")"
      ]
     },
     "execution_count": 16,
     "metadata": {},
     "output_type": "execute_result"
    }
   ],
   "source": [
    "a.load_state_dict(torch.load(PATH), strict=True)\n",
    "a.double_conv"
   ]
  },
  {
   "cell_type": "code",
   "execution_count": 12,
   "metadata": {},
   "outputs": [
    {
     "data": {
      "text/plain": [
       "True"
      ]
     },
     "execution_count": 12,
     "metadata": {},
     "output_type": "execute_result"
    }
   ],
   "source": [
    "import os\n",
    "os.path.exists('./model.pt')"
   ]
  },
  {
   "cell_type": "code",
   "execution_count": 9,
   "metadata": {},
   "outputs": [
    {
     "name": "stdout",
     "output_type": "stream",
     "text": [
      "Parameter containing:\n",
      "tensor([[[[0., 0., 0.],\n",
      "          [0., 0., 0.],\n",
      "          [0., 0., 0.]],\n",
      "\n",
      "         [[0., 0., 0.],\n",
      "          [0., 0., 0.],\n",
      "          [0., 0., 0.]],\n",
      "\n",
      "         [[0., 0., 0.],\n",
      "          [0., 0., 0.],\n",
      "          [0., 0., 0.]],\n",
      "\n",
      "         ...,\n",
      "\n",
      "         [[0., 0., 0.],\n",
      "          [0., 0., 0.],\n",
      "          [0., 0., 0.]],\n",
      "\n",
      "         [[0., 0., 0.],\n",
      "          [0., 0., 0.],\n",
      "          [0., 0., 0.]],\n",
      "\n",
      "         [[0., 0., 0.],\n",
      "          [0., 0., 0.],\n",
      "          [0., 0., 0.]]],\n",
      "\n",
      "\n",
      "        [[[0., 0., 0.],\n",
      "          [0., 0., 0.],\n",
      "          [0., 0., 0.]],\n",
      "\n",
      "         [[0., 0., 0.],\n",
      "          [0., 0., 0.],\n",
      "          [0., 0., 0.]],\n",
      "\n",
      "         [[0., 0., 0.],\n",
      "          [0., 0., 0.],\n",
      "          [0., 0., 0.]],\n",
      "\n",
      "         ...,\n",
      "\n",
      "         [[0., 0., 0.],\n",
      "          [0., 0., 0.],\n",
      "          [0., 0., 0.]],\n",
      "\n",
      "         [[0., 0., 0.],\n",
      "          [0., 0., 0.],\n",
      "          [0., 0., 0.]],\n",
      "\n",
      "         [[0., 0., 0.],\n",
      "          [0., 0., 0.],\n",
      "          [0., 0., 0.]]],\n",
      "\n",
      "\n",
      "        [[[0., 0., 0.],\n",
      "          [0., 0., 0.],\n",
      "          [0., 0., 0.]],\n",
      "\n",
      "         [[0., 0., 0.],\n",
      "          [0., 0., 0.],\n",
      "          [0., 0., 0.]],\n",
      "\n",
      "         [[0., 0., 0.],\n",
      "          [0., 0., 0.],\n",
      "          [0., 0., 0.]],\n",
      "\n",
      "         ...,\n",
      "\n",
      "         [[0., 0., 0.],\n",
      "          [0., 0., 0.],\n",
      "          [0., 0., 0.]],\n",
      "\n",
      "         [[0., 0., 0.],\n",
      "          [0., 0., 0.],\n",
      "          [0., 0., 0.]],\n",
      "\n",
      "         [[0., 0., 0.],\n",
      "          [0., 0., 0.],\n",
      "          [0., 0., 0.]]],\n",
      "\n",
      "\n",
      "        ...,\n",
      "\n",
      "\n",
      "        [[[0., 0., 0.],\n",
      "          [0., 0., 0.],\n",
      "          [0., 0., 0.]],\n",
      "\n",
      "         [[0., 0., 0.],\n",
      "          [0., 0., 0.],\n",
      "          [0., 0., 0.]],\n",
      "\n",
      "         [[0., 0., 0.],\n",
      "          [0., 0., 0.],\n",
      "          [0., 0., 0.]],\n",
      "\n",
      "         ...,\n",
      "\n",
      "         [[0., 0., 0.],\n",
      "          [0., 0., 0.],\n",
      "          [0., 0., 0.]],\n",
      "\n",
      "         [[0., 0., 0.],\n",
      "          [0., 0., 0.],\n",
      "          [0., 0., 0.]],\n",
      "\n",
      "         [[0., 0., 0.],\n",
      "          [0., 0., 0.],\n",
      "          [0., 0., 0.]]],\n",
      "\n",
      "\n",
      "        [[[0., 0., 0.],\n",
      "          [0., 0., 0.],\n",
      "          [0., 0., 0.]],\n",
      "\n",
      "         [[0., 0., 0.],\n",
      "          [0., 0., 0.],\n",
      "          [0., 0., 0.]],\n",
      "\n",
      "         [[0., 0., 0.],\n",
      "          [0., 0., 0.],\n",
      "          [0., 0., 0.]],\n",
      "\n",
      "         ...,\n",
      "\n",
      "         [[0., 0., 0.],\n",
      "          [0., 0., 0.],\n",
      "          [0., 0., 0.]],\n",
      "\n",
      "         [[0., 0., 0.],\n",
      "          [0., 0., 0.],\n",
      "          [0., 0., 0.]],\n",
      "\n",
      "         [[0., 0., 0.],\n",
      "          [0., 0., 0.],\n",
      "          [0., 0., 0.]]],\n",
      "\n",
      "\n",
      "        [[[0., 0., 0.],\n",
      "          [0., 0., 0.],\n",
      "          [0., 0., 0.]],\n",
      "\n",
      "         [[0., 0., 0.],\n",
      "          [0., 0., 0.],\n",
      "          [0., 0., 0.]],\n",
      "\n",
      "         [[0., 0., 0.],\n",
      "          [0., 0., 0.],\n",
      "          [0., 0., 0.]],\n",
      "\n",
      "         ...,\n",
      "\n",
      "         [[0., 0., 0.],\n",
      "          [0., 0., 0.],\n",
      "          [0., 0., 0.]],\n",
      "\n",
      "         [[0., 0., 0.],\n",
      "          [0., 0., 0.],\n",
      "          [0., 0., 0.]],\n",
      "\n",
      "         [[0., 0., 0.],\n",
      "          [0., 0., 0.],\n",
      "          [0., 0., 0.]]]], requires_grad=True)\n",
      "Parameter containing:\n",
      "tensor([0., 0., 0., 0., 0., 0., 0., 0., 0., 0., 0., 0., 0., 0., 0., 0., 0., 0., 0., 0.],\n",
      "       requires_grad=True)\n",
      "Parameter containing:\n",
      "tensor([0., 0., 0., 0., 0., 0., 0., 0., 0., 0., 0., 0., 0., 0., 0., 0., 0., 0., 0., 0.],\n",
      "       requires_grad=True)\n",
      "Parameter containing:\n",
      "tensor([[[[0., 0., 0.],\n",
      "          [0., 0., 0.],\n",
      "          [0., 0., 0.]],\n",
      "\n",
      "         [[0., 0., 0.],\n",
      "          [0., 0., 0.],\n",
      "          [0., 0., 0.]],\n",
      "\n",
      "         [[0., 0., 0.],\n",
      "          [0., 0., 0.],\n",
      "          [0., 0., 0.]],\n",
      "\n",
      "         ...,\n",
      "\n",
      "         [[0., 0., 0.],\n",
      "          [0., 0., 0.],\n",
      "          [0., 0., 0.]],\n",
      "\n",
      "         [[0., 0., 0.],\n",
      "          [0., 0., 0.],\n",
      "          [0., 0., 0.]],\n",
      "\n",
      "         [[0., 0., 0.],\n",
      "          [0., 0., 0.],\n",
      "          [0., 0., 0.]]],\n",
      "\n",
      "\n",
      "        [[[0., 0., 0.],\n",
      "          [0., 0., 0.],\n",
      "          [0., 0., 0.]],\n",
      "\n",
      "         [[0., 0., 0.],\n",
      "          [0., 0., 0.],\n",
      "          [0., 0., 0.]],\n",
      "\n",
      "         [[0., 0., 0.],\n",
      "          [0., 0., 0.],\n",
      "          [0., 0., 0.]],\n",
      "\n",
      "         ...,\n",
      "\n",
      "         [[0., 0., 0.],\n",
      "          [0., 0., 0.],\n",
      "          [0., 0., 0.]],\n",
      "\n",
      "         [[0., 0., 0.],\n",
      "          [0., 0., 0.],\n",
      "          [0., 0., 0.]],\n",
      "\n",
      "         [[0., 0., 0.],\n",
      "          [0., 0., 0.],\n",
      "          [0., 0., 0.]]],\n",
      "\n",
      "\n",
      "        [[[0., 0., 0.],\n",
      "          [0., 0., 0.],\n",
      "          [0., 0., 0.]],\n",
      "\n",
      "         [[0., 0., 0.],\n",
      "          [0., 0., 0.],\n",
      "          [0., 0., 0.]],\n",
      "\n",
      "         [[0., 0., 0.],\n",
      "          [0., 0., 0.],\n",
      "          [0., 0., 0.]],\n",
      "\n",
      "         ...,\n",
      "\n",
      "         [[0., 0., 0.],\n",
      "          [0., 0., 0.],\n",
      "          [0., 0., 0.]],\n",
      "\n",
      "         [[0., 0., 0.],\n",
      "          [0., 0., 0.],\n",
      "          [0., 0., 0.]],\n",
      "\n",
      "         [[0., 0., 0.],\n",
      "          [0., 0., 0.],\n",
      "          [0., 0., 0.]]],\n",
      "\n",
      "\n",
      "        ...,\n",
      "\n",
      "\n",
      "        [[[0., 0., 0.],\n",
      "          [0., 0., 0.],\n",
      "          [0., 0., 0.]],\n",
      "\n",
      "         [[0., 0., 0.],\n",
      "          [0., 0., 0.],\n",
      "          [0., 0., 0.]],\n",
      "\n",
      "         [[0., 0., 0.],\n",
      "          [0., 0., 0.],\n",
      "          [0., 0., 0.]],\n",
      "\n",
      "         ...,\n",
      "\n",
      "         [[0., 0., 0.],\n",
      "          [0., 0., 0.],\n",
      "          [0., 0., 0.]],\n",
      "\n",
      "         [[0., 0., 0.],\n",
      "          [0., 0., 0.],\n",
      "          [0., 0., 0.]],\n",
      "\n",
      "         [[0., 0., 0.],\n",
      "          [0., 0., 0.],\n",
      "          [0., 0., 0.]]],\n",
      "\n",
      "\n",
      "        [[[0., 0., 0.],\n",
      "          [0., 0., 0.],\n",
      "          [0., 0., 0.]],\n",
      "\n",
      "         [[0., 0., 0.],\n",
      "          [0., 0., 0.],\n",
      "          [0., 0., 0.]],\n",
      "\n",
      "         [[0., 0., 0.],\n",
      "          [0., 0., 0.],\n",
      "          [0., 0., 0.]],\n",
      "\n",
      "         ...,\n",
      "\n",
      "         [[0., 0., 0.],\n",
      "          [0., 0., 0.],\n",
      "          [0., 0., 0.]],\n",
      "\n",
      "         [[0., 0., 0.],\n",
      "          [0., 0., 0.],\n",
      "          [0., 0., 0.]],\n",
      "\n",
      "         [[0., 0., 0.],\n",
      "          [0., 0., 0.],\n",
      "          [0., 0., 0.]]],\n",
      "\n",
      "\n",
      "        [[[0., 0., 0.],\n",
      "          [0., 0., 0.],\n",
      "          [0., 0., 0.]],\n",
      "\n",
      "         [[0., 0., 0.],\n",
      "          [0., 0., 0.],\n",
      "          [0., 0., 0.]],\n",
      "\n",
      "         [[0., 0., 0.],\n",
      "          [0., 0., 0.],\n",
      "          [0., 0., 0.]],\n",
      "\n",
      "         ...,\n",
      "\n",
      "         [[0., 0., 0.],\n",
      "          [0., 0., 0.],\n",
      "          [0., 0., 0.]],\n",
      "\n",
      "         [[0., 0., 0.],\n",
      "          [0., 0., 0.],\n",
      "          [0., 0., 0.]],\n",
      "\n",
      "         [[0., 0., 0.],\n",
      "          [0., 0., 0.],\n",
      "          [0., 0., 0.]]]], requires_grad=True)\n",
      "Parameter containing:\n",
      "tensor([0., 0., 0., 0., 0., 0., 0., 0., 0., 0., 0., 0., 0., 0., 0., 0., 0., 0., 0., 0.],\n",
      "       requires_grad=True)\n",
      "Parameter containing:\n",
      "tensor([0., 0., 0., 0., 0., 0., 0., 0., 0., 0., 0., 0., 0., 0., 0., 0., 0., 0., 0., 0.],\n",
      "       requires_grad=True)\n"
     ]
    }
   ],
   "source": [
    "for p in model.parameters():\n",
    "    p.detach().zero_()\n",
    "    print(p)"
   ]
  },
  {
   "cell_type": "code",
   "execution_count": 8,
   "metadata": {},
   "outputs": [
    {
     "ename": "AttributeError",
     "evalue": "'DoubleConv' object has no attribute 'requires_grad'",
     "output_type": "error",
     "traceback": [
      "\u001b[0;31m---------------------------------------------------------------------------\u001b[0m",
      "\u001b[0;31mAttributeError\u001b[0m                            Traceback (most recent call last)",
      "Cell \u001b[0;32mIn[8], line 39\u001b[0m\n\u001b[1;32m     36\u001b[0m         \u001b[38;5;28mself\u001b[39m\u001b[38;5;241m.\u001b[39mstep \u001b[38;5;241m+\u001b[39m\u001b[38;5;241m=\u001b[39m \u001b[38;5;241m1\u001b[39m\n\u001b[1;32m     38\u001b[0m ema \u001b[38;5;241m=\u001b[39m EMA(beta\u001b[38;5;241m=\u001b[39m\u001b[38;5;241m0.995\u001b[39m)\n\u001b[0;32m---> 39\u001b[0m ema_model \u001b[38;5;241m=\u001b[39m \u001b[43mcopy\u001b[49m\u001b[38;5;241;43m.\u001b[39;49m\u001b[43mdeepcopy\u001b[49m\u001b[43m(\u001b[49m\u001b[43mmodel\u001b[49m\u001b[43m)\u001b[49m\u001b[38;5;241;43m.\u001b[39;49m\u001b[43meval\u001b[49m\u001b[43m(\u001b[49m\u001b[43m)\u001b[49m\u001b[38;5;241;43m.\u001b[39;49m\u001b[43mrequires_grad\u001b[49m(\u001b[38;5;28;01mFalse\u001b[39;00m)\n",
      "File \u001b[0;32m/workspaces/diffusion_impl/venv/lib/python3.10/site-packages/torch/nn/modules/module.py:1729\u001b[0m, in \u001b[0;36mModule.__getattr__\u001b[0;34m(self, name)\u001b[0m\n\u001b[1;32m   1727\u001b[0m     \u001b[38;5;28;01mif\u001b[39;00m name \u001b[38;5;129;01min\u001b[39;00m modules:\n\u001b[1;32m   1728\u001b[0m         \u001b[38;5;28;01mreturn\u001b[39;00m modules[name]\n\u001b[0;32m-> 1729\u001b[0m \u001b[38;5;28;01mraise\u001b[39;00m \u001b[38;5;167;01mAttributeError\u001b[39;00m(\u001b[38;5;124mf\u001b[39m\u001b[38;5;124m\"\u001b[39m\u001b[38;5;124m'\u001b[39m\u001b[38;5;132;01m{\u001b[39;00m\u001b[38;5;28mtype\u001b[39m(\u001b[38;5;28mself\u001b[39m)\u001b[38;5;241m.\u001b[39m\u001b[38;5;18m__name__\u001b[39m\u001b[38;5;132;01m}\u001b[39;00m\u001b[38;5;124m'\u001b[39m\u001b[38;5;124m object has no attribute \u001b[39m\u001b[38;5;124m'\u001b[39m\u001b[38;5;132;01m{\u001b[39;00mname\u001b[38;5;132;01m}\u001b[39;00m\u001b[38;5;124m'\u001b[39m\u001b[38;5;124m\"\u001b[39m)\n",
      "\u001b[0;31mAttributeError\u001b[0m: 'DoubleConv' object has no attribute 'requires_grad'"
     ]
    }
   ],
   "source": [
    "import copy\n",
    "class EMA:\n",
    "    def __init__(self, beta):\n",
    "        self.beta = beta\n",
    "        self.step = 0\n",
    "\n",
    "    def update_model_average(self, ema_model, model):\n",
    "        for curr_param, ema_param in zip(model.parameters(), ema_model.parameters()):\n",
    "            old_weight, new_weight = ema_param.data, curr_param.data\n",
    "            ema_param.data = self.update_average(old_weight, new_weight)\n",
    "            \n",
    "    ## We have a apply the smoothing where the EMA model\n",
    "    ## parameters will be updated by the moving average\n",
    "    ## of the old and new weights.\n",
    "    def update_average(self, old_weight, new_weight):\n",
    "        return old_weight * self.beta + (1 - self.beta) * new_weight\n",
    "    \n",
    "\n",
    "    def reset_parameters(self, ema_model, model):\n",
    "        ema_model.load_state_dict(model.state_dict())\n",
    "\n",
    "\n",
    "    ## At the start, even as we train the non ema model, \n",
    "    ## we just allow the ema model take copy the learnt weights\n",
    "    ## from the non ema model. We don't want to over average early\n",
    "    ## as this overemphasizes the the early stage weights.\n",
    "    ## For simplicity, we start the averaging after 2000 steps\n",
    "    ## of non ema model training (assumes that our data and \n",
    "    ## no. of epochs will exceed and best be more 2x more than 2000)\n",
    "    def step_ema(self, ema_model, model, step_start_ema=2000):\n",
    "        if self.step < step_start_ema:\n",
    "            self.reset_parameters(ema_model, model)\n",
    "            self.step += 1\n",
    "            return\n",
    "        self.update_model_average(ema_model, model)\n",
    "        self.step += 1\n",
    "\n",
    "ema = EMA(beta=0.995)\n",
    "ema_model = copy.deepcopy(model).eval().requires_grad_(False)"
   ]
  },
  {
   "cell_type": "code",
   "execution_count": 10,
   "metadata": {},
   "outputs": [
    {
     "data": {
      "text/plain": [
       "DoubleConv(\n",
       "  (double_conv): Sequential(\n",
       "    (0): Conv2d(10, 20, kernel_size=(3, 3), stride=(1, 1), padding=(1, 1), bias=False)\n",
       "    (1): GroupNorm(1, 20, eps=1e-05, affine=True)\n",
       "    (2): GELU(approximate='none')\n",
       "    (3): Conv2d(20, 20, kernel_size=(3, 3), stride=(1, 1), padding=(1, 1), bias=False)\n",
       "    (4): GroupNorm(1, 20, eps=1e-05, affine=True)\n",
       "  )\n",
       ")"
      ]
     },
     "execution_count": 10,
     "metadata": {},
     "output_type": "execute_result"
    }
   ],
   "source": [
    "copy.deepcopy(model).eval()"
   ]
  },
  {
   "cell_type": "code",
   "execution_count": 71,
   "metadata": {},
   "outputs": [
    {
     "name": "stdout",
     "output_type": "stream",
     "text": [
      "1\n"
     ]
    },
    {
     "data": {
      "text/plain": [
       "567567"
      ]
     },
     "execution_count": 71,
     "metadata": {},
     "output_type": "execute_result"
    }
   ],
   "source": [
    "class Parent1:\n",
    "    def __init__(self, a, b, c=2):\n",
    "        self.a = a\n",
    "        self.b = b\n",
    "\n",
    "        if c < 3:\n",
    "            self.c = 567567\n",
    "    \n",
    "    def aaa(self, neww):\n",
    "        return neww\n",
    "    \n",
    "\n",
    "class Parent2:\n",
    "    def __init__(self, k=1, j=56):\n",
    "        self.k = k\n",
    "        self.j = j\n",
    "\n",
    "# class childB(Parent2, Parent1):\n",
    "#     def __init__(self, i):\n",
    "#         super().__init__(b=3,a=4)\n",
    "#         self.i = i\n",
    "            \n",
    "#     def bbb(self, neww):\n",
    "#         return neww + 345\n",
    "\n",
    "\n",
    "class childA(Parent2, Parent1):\n",
    "    def __init__(self, x):\n",
    "        super().__init__()\n",
    "        Parent1.__init__(self, a=3, b=2)\n",
    "        # Parent2.__init__(self, 657, 789)\n",
    "        self.x = x\n",
    "    \n",
    "    def help(self):\n",
    "        print(self.k)\n",
    "        return self.aaa(self.c)\n",
    "\n",
    "a = childA(546)\n",
    "a.help()"
   ]
  },
  {
   "cell_type": "code",
   "execution_count": 44,
   "metadata": {},
   "outputs": [
    {
     "name": "stdout",
     "output_type": "stream",
     "text": [
      "torch.Size([1, 720, 830])\n"
     ]
    },
    {
     "data": {
      "text/plain": [
       "array([[0, 0, 0, ..., 0, 0, 0],\n",
       "       [0, 0, 0, ..., 0, 0, 0],\n",
       "       [0, 0, 0, ..., 0, 0, 0],\n",
       "       ...,\n",
       "       [0, 0, 0, ..., 0, 0, 0],\n",
       "       [0, 0, 0, ..., 0, 0, 0],\n",
       "       [0, 0, 0, ..., 0, 0, 0]], dtype=uint8)"
      ]
     },
     "execution_count": 44,
     "metadata": {},
     "output_type": "execute_result"
    }
   ],
   "source": [
    "import cv2\n",
    "import torchvision\n",
    "\n",
    "# # Load the image\n",
    "# image = cv2.imread(\"img1.jpeg\")\n",
    "\n",
    "img = cv2.imread('messi5.jpeg', cv2.IMREAD_GRAYSCALE)\n",
    "img = cv2.GaussianBlur(img, (5,5), 0)\n",
    "\n",
    "transforms.Resize\n",
    "\n",
    "\n",
    "img_tensor = torch.tensor(img)\n",
    "print(img_tensor.unsqueeze(0).shape)\n",
    "image = torchvision.transforms.ToPILImage()(img_tensor.unsqueeze(0))\n",
    "\n",
    "out = cv2.Canny(img, 50, 200, L2gradient=True)\n",
    "out"
   ]
  },
  {
   "cell_type": "code",
   "execution_count": 1,
   "metadata": {},
   "outputs": [
    {
     "name": "stderr",
     "output_type": "stream",
     "text": [
      "/workspaces/diffusion_impl/venv/lib/python3.10/site-packages/tqdm/auto.py:21: TqdmWarning: IProgress not found. Please update jupyter and ipywidgets. See https://ipywidgets.readthedocs.io/en/stable/user_install.html\n",
      "  from .autonotebook import tqdm as notebook_tqdm\n"
     ]
    }
   ],
   "source": [
    "from torch.utils.data import TensorDataset, DataLoader\n",
    "import torchvision.transforms as transforms\n",
    "from datasets import load_dataset\n",
    "\n",
    "def get_data_loader(batch_size, is_data_loader_shuffle):\n",
    "\n",
    "    ## Load the cifar dataset for a set of images \n",
    "    ## from huggingface for testing purposes\n",
    "    ds = load_dataset(\"uoft-cs/cifar10\")\n",
    "\n",
    "    ## Extra operations to convert data into a dataset and\n",
    "    ## fed in dataloader\n",
    "    transform = transforms.Compose([transforms.ToTensor()])\n",
    "    tensor_x = torch.stack(list(map(lambda PILimg: transform(PILimg), ds['train']['img'])))\n",
    "    tensor_y = torch.LongTensor(ds['train']['label'])\n",
    "\n",
    "    my_dataset = TensorDataset(tensor_x, tensor_y)\n",
    "    my_dataloader = DataLoader(my_dataset,\n",
    "                               batch_size=batch_size,\n",
    "                               shuffle=is_data_loader_shuffle)\n",
    "    return my_dataloader"
   ]
  },
  {
   "cell_type": "code",
   "execution_count": null,
   "metadata": {},
   "outputs": [],
   "source": [
    "for images, labels in get_data_loader(12, True):\n",
    "    print(images.shape)\n",
    "    print(images.unsqueeze(0).shape)\n",
    "    tt = transforms.Compose([transforms.ToPILImage()])\n",
    "    image_jpg = tt(images)\n",
    "    break\n",
    "\n",
    "\n",
    "img.shape"
   ]
  },
  {
   "cell_type": "code",
   "execution_count": 2,
   "metadata": {},
   "outputs": [
    {
     "ename": "error",
     "evalue": "OpenCV(4.10.0) /io/opencv/modules/highgui/src/window.cpp:1301: error: (-2:Unspecified error) The function is not implemented. Rebuild the library with Windows, GTK+ 2.x or Cocoa support. If you are on Ubuntu or Debian, install libgtk2.0-dev and pkg-config, then re-run cmake or configure script in function 'cvShowImage'\n",
     "output_type": "error",
     "traceback": [
      "\u001b[0;31m---------------------------------------------------------------------------\u001b[0m",
      "\u001b[0;31merror\u001b[0m                                     Traceback (most recent call last)",
      "Cell \u001b[0;32mIn[2], line 21\u001b[0m\n\u001b[1;32m     16\u001b[0m     \u001b[38;5;28;01mreturn\u001b[39;00m cv2\u001b[38;5;241m.\u001b[39mCanny(blurred_image, \u001b[38;5;241m50\u001b[39m, \u001b[38;5;241m150\u001b[39m)\n\u001b[1;32m     19\u001b[0m \u001b[38;5;28;01mfor\u001b[39;00m images, labels \u001b[38;5;129;01min\u001b[39;00m get_data_loader(\u001b[38;5;241m12\u001b[39m, \u001b[38;5;28;01mTrue\u001b[39;00m):\n\u001b[0;32m---> 21\u001b[0m     \u001b[43mcv2\u001b[49m\u001b[38;5;241;43m.\u001b[39;49m\u001b[43mimshow\u001b[49m\u001b[43m(\u001b[49m\u001b[38;5;124;43m'\u001b[39;49m\u001b[38;5;124;43mOriginal\u001b[39;49m\u001b[38;5;124;43m'\u001b[39;49m\u001b[43m,\u001b[49m\u001b[43m \u001b[49m\u001b[43mimages\u001b[49m\u001b[43m[\u001b[49m\u001b[38;5;241;43m0\u001b[39;49m\u001b[43m]\u001b[49m\u001b[38;5;241;43m.\u001b[39;49m\u001b[43mnumpy\u001b[49m\u001b[43m(\u001b[49m\u001b[43m)\u001b[49m\u001b[43m)\u001b[49m\n\u001b[1;32m     23\u001b[0m     tt \u001b[38;5;241m=\u001b[39m transforms\u001b[38;5;241m.\u001b[39mCompose([\n\u001b[1;32m     24\u001b[0m         transforms\u001b[38;5;241m.\u001b[39mLambda(\u001b[38;5;28;01mlambda\u001b[39;00m x: [grey_and_blur(img) \u001b[38;5;28;01mfor\u001b[39;00m img \u001b[38;5;129;01min\u001b[39;00m x])\n\u001b[1;32m     25\u001b[0m     ])\n\u001b[1;32m     26\u001b[0m     image_jpg \u001b[38;5;241m=\u001b[39m tt(images)\n",
      "\u001b[0;31merror\u001b[0m: OpenCV(4.10.0) /io/opencv/modules/highgui/src/window.cpp:1301: error: (-2:Unspecified error) The function is not implemented. Rebuild the library with Windows, GTK+ 2.x or Cocoa support. If you are on Ubuntu or Debian, install libgtk2.0-dev and pkg-config, then re-run cmake or configure script in function 'cvShowImage'\n"
     ]
    }
   ],
   "source": [
    "import torch\n",
    "import cv2\n",
    "import torchvision.transforms as transforms\n",
    "import torchvision.transforms.functional as F\n",
    "import numpy as np\n",
    "import matplotlib.pyplot as plt\n",
    "\n",
    "def grey_and_blur(image):\n",
    "    # images_gray = np.mean(image.numpy(), axis=1)\n",
    "\n",
    "    # Normalize the grayscale image to the range [0, 255]\n",
    "    images_gray_normalized = cv2.normalize(image.numpy(), None, 0, 255, cv2.NORM_MINMAX)\n",
    "    # grayscale_trans = transforms.Grayscale(num_output_channels=1)\n",
    "    blurred_image = cv2.GaussianBlur(images_gray_normalized, (3,3), 0)\n",
    "    blurred_image = blurred_image.astype(np.uint8)\n",
    "    return cv2.Canny(blurred_image, 50, 150)\n",
    "\n",
    "\n",
    "for images, labels in get_data_loader(12, True):\n",
    "    \n",
    "    cv2.imshow('Original', images[0].numpy())\n",
    "     \n",
    "    tt = transforms.Compose([\n",
    "        transforms.Lambda(lambda x: [grey_and_blur(img) for img in x])\n",
    "    ])\n",
    "    image_jpg = tt(images)\n",
    "    # print(image_jpg[0].shape)\n",
    "    # plt.subplot(122), cv2.imshow(torch.tensor(image_jpg[0]))\n",
    "    break\n",
    "\n",
    "\n",
    "# img = cv2.imread('messi5.jpeg', cv2.IMREAD_GRAYSCALE)\n",
    "# img = cv2.GaussianBlur(img, (5,5), 0)\n",
    "\n",
    "# img_tensor = torch.tensor(img)\n",
    "# print(img_tensor.unsqueeze(0).shape)\n",
    "# image = torchvision.transforms.ToPILImage()(img_tensor.unsqueeze(0))\n",
    "# out = cv2.Canny(img, 50, 200, L2gradient=True)\n",
    "# out\n",
    "\n",
    "\n",
    "\n",
    "\n",
    "\n",
    "# np.nonzero(out)"
   ]
  },
  {
   "cell_type": "code",
   "execution_count": 46,
   "metadata": {},
   "outputs": [
    {
     "name": "stdout",
     "output_type": "stream",
     "text": [
      "torch.Size([32, 32, 3])\n",
      "(32, 32, 3)\n"
     ]
    },
    {
     "data": {
      "image/png": "[encoded data removed]",
      "text/plain": [
       "<Figure size 640x480 with 2 Axes>"
      ]
     },
     "metadata": {},
     "output_type": "display_data"
    }
   ],
   "source": [
    "import cv2 as cv\n",
    "from matplotlib import pyplot as plt\n",
    "import numpy\n",
    "\n",
    "for imgggg in load_dataset(\"uoft-cs/cifar10\")['train']['img']:\n",
    "\n",
    "    new_img = numpy.asarray(imgggg)\n",
    "    (B, G, R) = cv2.split(new_img)\n",
    "\n",
    "    gray = cv.cvtColor(new_img, cv.COLOR_BGR2GRAY)\n",
    "\n",
    "    # edges_new = cv.Canny(gray,100,200)\n",
    "\n",
    "    B_cny = cv2.Canny(B, 100, 200)\n",
    "    G_cny = cv2.Canny(G, 100, 200)\n",
    "    R_cny = cv2.Canny(R, 100, 200)\n",
    "\n",
    "    edges_new = cv2.merge([B_cny, G_cny, R_cny])\n",
    "    # edges_new = np.transpose(edges_new, (2, 0, 1))\n",
    "    print(torch.tensor(edges_new).shape)\n",
    "\n",
    "    im_rgb = cv.cvtColor(new_img, cv.COLOR_BGR2RGB)\n",
    "    print(im_rgb.shape)\n",
    "    plt.subplot(121),plt.imshow(im_rgb,cmap = 'Blues')\n",
    "    plt.title('Original Image'), plt.xticks([]), plt.yticks([])\n",
    "\n",
    "    plt.subplot(122),plt.imshow(edges_new, cmap = 'bone')\n",
    "    plt.title('Edge Image'), plt.xticks([]), plt.yticks([])\n",
    "    break"
   ]
  },
  {
   "cell_type": "code",
   "execution_count": 51,
   "metadata": {},
   "outputs": [
    {
     "name": "stdout",
     "output_type": "stream",
     "text": [
      "torch.Size([12, 3, 32, 32])\n",
      "torch.Size([12, 3, 32, 32])\n",
      "torch.Size([12])\n"
     ]
    }
   ],
   "source": [
    "ds = load_dataset(\"uoft-cs/cifar10\")\n",
    "\n",
    "def get_canny_edges(PILimg):\n",
    "    trans_img = numpy.asarray(PILimg)\n",
    "\n",
    "    (B, G, R) = cv2.split(trans_img)\n",
    "    B_cny = cv2.Canny(B, 100, 200)\n",
    "    G_cny = cv2.Canny(G, 100, 200)\n",
    "    R_cny = cv2.Canny(R, 100, 200)\n",
    "    edges = cv2.merge([B_cny, G_cny, R_cny])\n",
    "    edges = np.transpose(edges, (2, 0, 1))\n",
    "    return edges\n",
    "\n",
    "transform = transforms.Compose([transforms.ToTensor()])\n",
    "tensor_x = torch.stack(list(map(lambda PILimg: transform(PILimg), ds['train']['img'])))\n",
    "tensor_y = torch.LongTensor(ds['train']['label'])\n",
    "tensor_z = torch.stack(list(map(lambda PILimg: torch.tensor(get_canny_edges(PILimg)), ds['train']['img'])))\n",
    "\n",
    "my_dataset = TensorDataset(tensor_x, tensor_y, tensor_z) # create your datset\n",
    "my_dataloader = DataLoader(my_dataset,\n",
    "                           batch_size=12,\n",
    "                           shuffle=True)\n",
    "\n",
    "\n",
    "for i, (images, labels, edges) in enumerate(my_dataloader):\n",
    "    print(images.shape)\n",
    "    print(edges.shape)\n",
    "    print(labels.shape)\n",
    "\n",
    "    break\n",
    "\n",
    "\n"
   ]
  },
  {
   "cell_type": "code",
   "execution_count": 30,
   "metadata": {},
   "outputs": [
    {
     "data": {
      "text/plain": [
       "torch.Size([12, 32, 32])"
      ]
     },
     "execution_count": 30,
     "metadata": {},
     "output_type": "execute_result"
    }
   ],
   "source": [
    "torch.randn(12,32,32).shape"
   ]
  },
  {
   "cell_type": "code",
   "execution_count": 40,
   "metadata": {},
   "outputs": [
    {
     "data": {
      "text/plain": [
       "tensor([[[[ 0.0993,  0.0969,  0.1196,  ...,  0.1136,  0.1127,  0.1048],\n",
       "          [ 0.1060,  0.0890,  0.1041,  ...,  0.1148,  0.1229,  0.1219],\n",
       "          [ 0.1034,  0.1165,  0.1026,  ...,  0.1158,  0.1068,  0.1236],\n",
       "          ...,\n",
       "          [ 0.0940,  0.1086,  0.0987,  ...,  0.1071,  0.1171,  0.0985],\n",
       "          [ 0.1014,  0.1104,  0.1121,  ...,  0.1055,  0.1004,  0.1125],\n",
       "          [ 0.1104,  0.0977,  0.1053,  ...,  0.1184,  0.1090,  0.1134]],\n",
       "\n",
       "         [[ 0.1328,  0.1476,  0.1324,  ...,  0.1298,  0.1283,  0.1424],\n",
       "          [ 0.1456,  0.1190,  0.1437,  ...,  0.1274,  0.1259,  0.1212],\n",
       "          [ 0.1178,  0.1292,  0.1211,  ...,  0.1445,  0.1493,  0.1266],\n",
       "          ...,\n",
       "          [ 0.1209,  0.1754,  0.1464,  ...,  0.1501,  0.1143,  0.1374],\n",
       "          [ 0.1271,  0.1246,  0.1274,  ...,  0.1202,  0.1482,  0.1288],\n",
       "          [ 0.1284,  0.1378,  0.1389,  ...,  0.1340,  0.1307,  0.1375]],\n",
       "\n",
       "         [[ 0.0347,  0.0372,  0.0293,  ...,  0.0292,  0.0354,  0.0415],\n",
       "          [ 0.0402,  0.0357,  0.0298,  ...,  0.0300,  0.0278,  0.0317],\n",
       "          [ 0.0266,  0.0304,  0.0401,  ...,  0.0222,  0.0285,  0.0201],\n",
       "          ...,\n",
       "          [ 0.0356,  0.0332,  0.0483,  ...,  0.0300,  0.0291,  0.0321],\n",
       "          [ 0.0220,  0.0165,  0.0379,  ...,  0.0281,  0.0392,  0.0281],\n",
       "          [ 0.0352,  0.0200,  0.0272,  ...,  0.0440,  0.0405,  0.0420]],\n",
       "\n",
       "         ...,\n",
       "\n",
       "         [[-0.0623, -0.0817, -0.0658,  ..., -0.0619, -0.0652, -0.0720],\n",
       "          [-0.0604, -0.0663, -0.0687,  ..., -0.0707, -0.0690, -0.0686],\n",
       "          [-0.0643, -0.0787, -0.0537,  ..., -0.0586, -0.0654, -0.0796],\n",
       "          ...,\n",
       "          [-0.0824, -0.0550, -0.0902,  ..., -0.0243, -0.0580, -0.0834],\n",
       "          [-0.0752, -0.0639, -0.0450,  ..., -0.0726, -0.0754, -0.0900],\n",
       "          [-0.0653, -0.0769, -0.0690,  ..., -0.0734, -0.0614, -0.0640]],\n",
       "\n",
       "         [[-0.0284, -0.0312, -0.0358,  ..., -0.0227, -0.0387, -0.0135],\n",
       "          [-0.0285, -0.0284, -0.0241,  ..., -0.0390, -0.0394, -0.0338],\n",
       "          [-0.0330, -0.0303, -0.0119,  ..., -0.0301, -0.0349, -0.0292],\n",
       "          ...,\n",
       "          [-0.0300, -0.0568, -0.0329,  ..., -0.0423, -0.0206, -0.0370],\n",
       "          [-0.0344, -0.0401, -0.0350,  ..., -0.0305, -0.0281, -0.0371],\n",
       "          [-0.0385, -0.0241, -0.0350,  ..., -0.0211, -0.0153, -0.0376]],\n",
       "\n",
       "         [[-0.1235, -0.1145, -0.1217,  ..., -0.1158, -0.1220, -0.1303],\n",
       "          [-0.1093, -0.1277, -0.1156,  ..., -0.1036, -0.1033, -0.1315],\n",
       "          [-0.1336, -0.1147, -0.1136,  ..., -0.1013, -0.1036, -0.1347],\n",
       "          ...,\n",
       "          [-0.1130, -0.1241, -0.1265,  ..., -0.1331, -0.1077, -0.1183],\n",
       "          [-0.1255, -0.1168, -0.1350,  ..., -0.1223, -0.1060, -0.1024],\n",
       "          [-0.1314, -0.1090, -0.1026,  ..., -0.1188, -0.1181, -0.1252]]],\n",
       "\n",
       "\n",
       "        [[[ 0.1133,  0.1132,  0.1221,  ...,  0.1181,  0.1073,  0.1199],\n",
       "          [ 0.1148,  0.1163,  0.1347,  ...,  0.1226,  0.1091,  0.1250],\n",
       "          [ 0.1172,  0.1129,  0.0919,  ...,  0.1289,  0.1143,  0.1183],\n",
       "          ...,\n",
       "          [ 0.1110,  0.1021,  0.1150,  ...,  0.1297,  0.1183,  0.1230],\n",
       "          [ 0.1222,  0.0976,  0.1172,  ...,  0.1078,  0.1264,  0.1136],\n",
       "          [ 0.1038,  0.1093,  0.1129,  ...,  0.1033,  0.1177,  0.1153]],\n",
       "\n",
       "         [[ 0.1446,  0.1427,  0.1194,  ...,  0.1377,  0.1378,  0.1166],\n",
       "          [ 0.1424,  0.1359,  0.1247,  ...,  0.1226,  0.1402,  0.1219],\n",
       "          [ 0.1452,  0.1166,  0.1412,  ...,  0.1349,  0.1260,  0.1226],\n",
       "          ...,\n",
       "          [ 0.1208,  0.1164,  0.1393,  ...,  0.1224,  0.1083,  0.1256],\n",
       "          [ 0.1169,  0.1319,  0.1240,  ...,  0.1410,  0.1146,  0.1318],\n",
       "          [ 0.1263,  0.1289,  0.1272,  ...,  0.1332,  0.1350,  0.1257]],\n",
       "\n",
       "         [[ 0.0368,  0.0366,  0.0224,  ...,  0.0300,  0.0387,  0.0300],\n",
       "          [ 0.0377,  0.0343,  0.0100,  ...,  0.0332,  0.0394,  0.0191],\n",
       "          [ 0.0386,  0.0365,  0.0510,  ...,  0.0338,  0.0355,  0.0294],\n",
       "          ...,\n",
       "          [ 0.0414,  0.0344,  0.0380,  ...,  0.0336,  0.0270,  0.0381],\n",
       "          [ 0.0367,  0.0323,  0.0097,  ...,  0.0341,  0.0237,  0.0451],\n",
       "          [ 0.0412,  0.0329,  0.0427,  ...,  0.0290,  0.0258,  0.0324]],\n",
       "\n",
       "         ...,\n",
       "\n",
       "         [[-0.0662, -0.0602, -0.0689,  ..., -0.0806, -0.0634, -0.0661],\n",
       "          [-0.0670, -0.0755, -0.0778,  ..., -0.0757, -0.0695, -0.0704],\n",
       "          [-0.0746, -0.0888, -0.0713,  ..., -0.0583, -0.0730, -0.0715],\n",
       "          ...,\n",
       "          [-0.0640, -0.0669, -0.0634,  ..., -0.0447, -0.0720, -0.0834],\n",
       "          [-0.0739, -0.0793, -0.0620,  ..., -0.0584, -0.0574, -0.0807],\n",
       "          [-0.0742, -0.0593, -0.0666,  ..., -0.0590, -0.0569, -0.0732]],\n",
       "\n",
       "         [[-0.0250, -0.0292, -0.0274,  ..., -0.0461, -0.0093, -0.0249],\n",
       "          [-0.0417, -0.0213, -0.0371,  ..., -0.0412, -0.0210, -0.0307],\n",
       "          [-0.0474, -0.0082, -0.0466,  ..., -0.0229, -0.0417, -0.0368],\n",
       "          ...,\n",
       "          [-0.0416, -0.0105, -0.0399,  ..., -0.0469, -0.0423, -0.0573],\n",
       "          [-0.0300, -0.0279, -0.0302,  ..., -0.0431, -0.0283, -0.0139],\n",
       "          [-0.0298, -0.0315, -0.0439,  ..., -0.0275, -0.0217, -0.0386]],\n",
       "\n",
       "         [[-0.1100, -0.1072, -0.1291,  ..., -0.1144, -0.1188, -0.1213],\n",
       "          [-0.1122, -0.1224, -0.1054,  ..., -0.1214, -0.1218, -0.1126],\n",
       "          [-0.1228, -0.1154, -0.0973,  ..., -0.1171, -0.1143, -0.1136],\n",
       "          ...,\n",
       "          [-0.1152, -0.1347, -0.1089,  ..., -0.0986, -0.1244, -0.1279],\n",
       "          [-0.1061, -0.1073, -0.1174,  ..., -0.0948, -0.1154, -0.1065],\n",
       "          [-0.1262, -0.1224, -0.1042,  ..., -0.1196, -0.1093, -0.1212]]],\n",
       "\n",
       "\n",
       "        [[[ 0.1113,  0.0957,  0.1027,  ...,  0.1035,  0.1023,  0.1176],\n",
       "          [ 0.1265,  0.1140,  0.1196,  ...,  0.1256,  0.1198,  0.1128],\n",
       "          [ 0.1038,  0.1000,  0.1172,  ...,  0.1091,  0.1291,  0.1101],\n",
       "          ...,\n",
       "          [ 0.1310,  0.1030,  0.1044,  ...,  0.1166,  0.0853,  0.0993],\n",
       "          [ 0.1157,  0.1180,  0.1009,  ...,  0.1085,  0.1108,  0.1101],\n",
       "          [ 0.1270,  0.1134,  0.1160,  ...,  0.0953,  0.1044,  0.1060]],\n",
       "\n",
       "         [[ 0.1360,  0.1351,  0.1220,  ...,  0.1308,  0.1407,  0.1372],\n",
       "          [ 0.1192,  0.1360,  0.1187,  ...,  0.1213,  0.1313,  0.1329],\n",
       "          [ 0.1504,  0.1175,  0.1126,  ...,  0.1349,  0.1272,  0.1288],\n",
       "          ...,\n",
       "          [ 0.1338,  0.1278,  0.1393,  ...,  0.1333,  0.1206,  0.1443],\n",
       "          [ 0.1094,  0.1238,  0.1494,  ...,  0.1081,  0.1399,  0.1184],\n",
       "          [ 0.1247,  0.1337,  0.1257,  ...,  0.1488,  0.1313,  0.1364]],\n",
       "\n",
       "         [[ 0.0360,  0.0464,  0.0260,  ...,  0.0120,  0.0427,  0.0328],\n",
       "          [ 0.0414,  0.0330,  0.0198,  ...,  0.0332,  0.0526,  0.0294],\n",
       "          [ 0.0348,  0.0513,  0.0298,  ...,  0.0312,  0.0280,  0.0273],\n",
       "          ...,\n",
       "          [ 0.0296,  0.0197,  0.0284,  ...,  0.0431,  0.0358,  0.0214],\n",
       "          [ 0.0575,  0.0374,  0.0444,  ...,  0.0397,  0.0402,  0.0266],\n",
       "          [ 0.0312,  0.0400,  0.0309,  ...,  0.0284,  0.0297,  0.0373]],\n",
       "\n",
       "         ...,\n",
       "\n",
       "         [[-0.0760, -0.0747, -0.0596,  ..., -0.0595, -0.0838, -0.0749],\n",
       "          [-0.0729, -0.0614, -0.0832,  ..., -0.0613, -0.0743, -0.0816],\n",
       "          [-0.0797, -0.0710, -0.0859,  ..., -0.0631, -0.0566, -0.0689],\n",
       "          ...,\n",
       "          [-0.0697, -0.0716, -0.0567,  ..., -0.0685, -0.0772, -0.0769],\n",
       "          [-0.0729, -0.0759, -0.0804,  ..., -0.0784, -0.0626, -0.0812],\n",
       "          [-0.0655, -0.0702, -0.0582,  ..., -0.0425, -0.0742, -0.0735]],\n",
       "\n",
       "         [[-0.0281, -0.0034, -0.0264,  ..., -0.0135, -0.0240, -0.0232],\n",
       "          [-0.0283, -0.0298, -0.0143,  ..., -0.0416, -0.0225, -0.0446],\n",
       "          [-0.0436, -0.0194, -0.0344,  ..., -0.0532, -0.0265, -0.0476],\n",
       "          ...,\n",
       "          [-0.0493, -0.0399, -0.0391,  ..., -0.0376, -0.0352, -0.0170],\n",
       "          [-0.0218, -0.0442, -0.0193,  ..., -0.0377, -0.0274, -0.0440],\n",
       "          [-0.0256, -0.0351, -0.0144,  ..., -0.0308, -0.0116, -0.0483]],\n",
       "\n",
       "         [[-0.1195, -0.1179, -0.1093,  ..., -0.1281, -0.1035, -0.1169],\n",
       "          [-0.0993, -0.1176, -0.1151,  ..., -0.1254, -0.1185, -0.1180],\n",
       "          [-0.0996, -0.1424, -0.1198,  ..., -0.1102, -0.1289, -0.1185],\n",
       "          ...,\n",
       "          [-0.1175, -0.1044, -0.1225,  ..., -0.0999, -0.1143, -0.1131],\n",
       "          [-0.1082, -0.1005, -0.0948,  ..., -0.1143, -0.1132, -0.1143],\n",
       "          [-0.1145, -0.1134, -0.1313,  ..., -0.1202, -0.1057, -0.1178]]],\n",
       "\n",
       "\n",
       "        ...,\n",
       "\n",
       "\n",
       "        [[[ 0.1126,  0.1222,  0.1154,  ...,  0.1139,  0.1021,  0.1161],\n",
       "          [ 0.1248,  0.1112,  0.1052,  ...,  0.1339,  0.1112,  0.1308],\n",
       "          [ 0.0986,  0.1056,  0.0965,  ...,  0.0964,  0.1316,  0.1187],\n",
       "          ...,\n",
       "          [ 0.1085,  0.1092,  0.1010,  ...,  0.1011,  0.1092,  0.1100],\n",
       "          [ 0.1046,  0.1106,  0.1104,  ...,  0.1072,  0.1120,  0.1125],\n",
       "          [ 0.1153,  0.0987,  0.1082,  ...,  0.1077,  0.1129,  0.1208]],\n",
       "\n",
       "         [[ 0.1300,  0.1198,  0.1196,  ...,  0.1210,  0.1367,  0.1250],\n",
       "          [ 0.1472,  0.1531,  0.1110,  ...,  0.1154,  0.1198,  0.1268],\n",
       "          [ 0.1376,  0.1038,  0.1347,  ...,  0.1405,  0.1266,  0.1336],\n",
       "          ...,\n",
       "          [ 0.1198,  0.1414,  0.1343,  ...,  0.1139,  0.1345,  0.1269],\n",
       "          [ 0.1273,  0.1302,  0.1183,  ...,  0.1457,  0.1090,  0.1224],\n",
       "          [ 0.1269,  0.1283,  0.1257,  ...,  0.1229,  0.1220,  0.1249]],\n",
       "\n",
       "         [[ 0.0375,  0.0544,  0.0138,  ...,  0.0187,  0.0366,  0.0302],\n",
       "          [ 0.0312,  0.0432,  0.0312,  ...,  0.0302,  0.0334,  0.0210],\n",
       "          [ 0.0507,  0.0247,  0.0203,  ...,  0.0438,  0.0395,  0.0286],\n",
       "          ...,\n",
       "          [ 0.0232,  0.0406,  0.0229,  ...,  0.0240,  0.0300,  0.0188],\n",
       "          [ 0.0372,  0.0366,  0.0179,  ...,  0.0313,  0.0146,  0.0371],\n",
       "          [ 0.0364,  0.0407,  0.0413,  ...,  0.0350,  0.0307,  0.0369]],\n",
       "\n",
       "         ...,\n",
       "\n",
       "         [[-0.0667, -0.0595, -0.0525,  ..., -0.0639, -0.0764, -0.0568],\n",
       "          [-0.0598, -0.0516, -0.0612,  ..., -0.0872, -0.0805, -0.0853],\n",
       "          [-0.0738, -0.0759, -0.0845,  ..., -0.0644, -0.0411, -0.0763],\n",
       "          ...,\n",
       "          [-0.0420, -0.0614, -0.0341,  ..., -0.0896, -0.0561, -0.0684],\n",
       "          [-0.0623, -0.0745, -0.0775,  ..., -0.0582, -0.0510, -0.0768],\n",
       "          [-0.0654, -0.0704, -0.0758,  ..., -0.0785, -0.0741, -0.0727]],\n",
       "\n",
       "         [[-0.0222, -0.0172, -0.0276,  ..., -0.0215, -0.0084, -0.0123],\n",
       "          [-0.0417, -0.0337, -0.0428,  ..., -0.0380, -0.0276, -0.0405],\n",
       "          [-0.0242, -0.0077, -0.0192,  ..., -0.0508, -0.0218, -0.0487],\n",
       "          ...,\n",
       "          [-0.0326, -0.0191, -0.0163,  ..., -0.0182, -0.0284, -0.0282],\n",
       "          [-0.0290, -0.0095, -0.0367,  ..., -0.0648, -0.0207, -0.0647],\n",
       "          [-0.0258, -0.0329, -0.0210,  ..., -0.0498, -0.0287, -0.0276]],\n",
       "\n",
       "         [[-0.1243, -0.1177, -0.1256,  ..., -0.1249, -0.1141, -0.1310],\n",
       "          [-0.1110, -0.0954, -0.1310,  ..., -0.0990, -0.1024, -0.1066],\n",
       "          [-0.1081, -0.1322, -0.0889,  ..., -0.1107, -0.1403, -0.1309],\n",
       "          ...,\n",
       "          [-0.1097, -0.1068, -0.1110,  ..., -0.0990, -0.1099, -0.1203],\n",
       "          [-0.1275, -0.1228, -0.0994,  ..., -0.0979, -0.1247, -0.1313],\n",
       "          [-0.1196, -0.1149, -0.1293,  ..., -0.1069, -0.1209, -0.1103]]],\n",
       "\n",
       "\n",
       "        [[[ 0.1096,  0.1077,  0.1268,  ...,  0.1301,  0.1145,  0.1129],\n",
       "          [ 0.1129,  0.1152,  0.1278,  ...,  0.1020,  0.1101,  0.1156],\n",
       "          [ 0.1171,  0.1262,  0.1030,  ...,  0.1107,  0.1202,  0.1105],\n",
       "          ...,\n",
       "          [ 0.1118,  0.0988,  0.0990,  ...,  0.1196,  0.1068,  0.0961],\n",
       "          [ 0.1255,  0.0941,  0.1182,  ...,  0.1106,  0.0979,  0.1049],\n",
       "          [ 0.1101,  0.1209,  0.1179,  ...,  0.1192,  0.1028,  0.1152]],\n",
       "\n",
       "         [[ 0.1434,  0.1125,  0.1260,  ...,  0.1336,  0.1164,  0.1365],\n",
       "          [ 0.1339,  0.1251,  0.1196,  ...,  0.1285,  0.1292,  0.1341],\n",
       "          [ 0.1331,  0.1034,  0.1117,  ...,  0.1262,  0.1137,  0.1236],\n",
       "          ...,\n",
       "          [ 0.1374,  0.1237,  0.1398,  ...,  0.1396,  0.1450,  0.1340],\n",
       "          [ 0.1275,  0.1120,  0.1343,  ...,  0.1312,  0.1566,  0.1216],\n",
       "          [ 0.1252,  0.1220,  0.1199,  ...,  0.1238,  0.1330,  0.1328]],\n",
       "\n",
       "         [[ 0.0272,  0.0340,  0.0264,  ...,  0.0225,  0.0312,  0.0260],\n",
       "          [ 0.0515,  0.0337,  0.0278,  ...,  0.0241,  0.0310,  0.0266],\n",
       "          [ 0.0284,  0.0358,  0.0504,  ...,  0.0396,  0.0393,  0.0355],\n",
       "          ...,\n",
       "          [ 0.0474,  0.0122,  0.0265,  ...,  0.0421,  0.0297,  0.0230],\n",
       "          [ 0.0444,  0.0278,  0.0582,  ...,  0.0399,  0.0393,  0.0353],\n",
       "          [ 0.0492,  0.0280,  0.0377,  ...,  0.0274,  0.0320,  0.0302]],\n",
       "\n",
       "         ...,\n",
       "\n",
       "         [[-0.0663, -0.0601, -0.0614,  ..., -0.0610, -0.0695, -0.0609],\n",
       "          [-0.0675, -0.0822, -0.0573,  ..., -0.0980, -0.0707, -0.0646],\n",
       "          [-0.0480, -0.0602, -0.0630,  ..., -0.0810, -0.0580, -0.0778],\n",
       "          ...,\n",
       "          [-0.0757, -0.0578, -0.0754,  ..., -0.0737, -0.0948, -0.0649],\n",
       "          [-0.0702, -0.0772, -0.0655,  ..., -0.0413, -0.0891, -0.0816],\n",
       "          [-0.0836, -0.0736, -0.0735,  ..., -0.0601, -0.0671, -0.0762]],\n",
       "\n",
       "         [[-0.0295, -0.0167, -0.0167,  ..., -0.0289, -0.0158, -0.0296],\n",
       "          [-0.0219, -0.0356, -0.0220,  ..., -0.0303, -0.0197, -0.0235],\n",
       "          [-0.0104, -0.0216, -0.0109,  ..., -0.0292, -0.0150, -0.0408],\n",
       "          ...,\n",
       "          [-0.0316, -0.0020, -0.0507,  ..., -0.0281, -0.0414, -0.0367],\n",
       "          [-0.0211, -0.0461, -0.0244,  ..., -0.0317, -0.0312, -0.0470],\n",
       "          [-0.0252, -0.0323, -0.0228,  ..., -0.0286, -0.0326, -0.0283]],\n",
       "\n",
       "         [[-0.1199, -0.1151, -0.1273,  ..., -0.1193, -0.1125, -0.1244],\n",
       "          [-0.1084, -0.1125, -0.1081,  ..., -0.1138, -0.1027, -0.1178],\n",
       "          [-0.1171, -0.1330, -0.1050,  ..., -0.1222, -0.1232, -0.1335],\n",
       "          ...,\n",
       "          [-0.1103, -0.1309, -0.0978,  ..., -0.1092, -0.0870, -0.1303],\n",
       "          [-0.1035, -0.1255, -0.1127,  ..., -0.1314, -0.0992, -0.1104],\n",
       "          [-0.1079, -0.1134, -0.1004,  ..., -0.1224, -0.1068, -0.1123]]],\n",
       "\n",
       "\n",
       "        [[[ 0.1090,  0.1143,  0.1130,  ...,  0.1175,  0.1175,  0.1016],\n",
       "          [ 0.1086,  0.1151,  0.1104,  ...,  0.1102,  0.1254,  0.1088],\n",
       "          [ 0.0954,  0.1138,  0.1039,  ...,  0.1169,  0.1159,  0.1128],\n",
       "          ...,\n",
       "          [ 0.1226,  0.0895,  0.1017,  ...,  0.0897,  0.1100,  0.1169],\n",
       "          [ 0.1191,  0.1267,  0.1268,  ...,  0.1029,  0.0967,  0.1140],\n",
       "          [ 0.1007,  0.1069,  0.1004,  ...,  0.1015,  0.1106,  0.1100]],\n",
       "\n",
       "         [[ 0.1301,  0.1346,  0.1325,  ...,  0.1351,  0.1297,  0.1482],\n",
       "          [ 0.1134,  0.1343,  0.1273,  ...,  0.1371,  0.1274,  0.1330],\n",
       "          [ 0.1172,  0.1317,  0.1283,  ...,  0.1127,  0.1286,  0.1327],\n",
       "          ...,\n",
       "          [ 0.1280,  0.1281,  0.1096,  ...,  0.1332,  0.1203,  0.1231],\n",
       "          [ 0.1415,  0.1160,  0.1283,  ...,  0.1197,  0.1485,  0.1193],\n",
       "          [ 0.1354,  0.1303,  0.1358,  ...,  0.1449,  0.1431,  0.1460]],\n",
       "\n",
       "         [[ 0.0428,  0.0294,  0.0235,  ...,  0.0372,  0.0272,  0.0362],\n",
       "          [ 0.0297,  0.0249,  0.0295,  ...,  0.0372,  0.0288,  0.0322],\n",
       "          [ 0.0465,  0.0353,  0.0427,  ...,  0.0419,  0.0368,  0.0257],\n",
       "          ...,\n",
       "          [ 0.0365,  0.0400,  0.0489,  ...,  0.0315,  0.0183,  0.0345],\n",
       "          [ 0.0311,  0.0185,  0.0293,  ...,  0.0364,  0.0259,  0.0259],\n",
       "          [ 0.0453,  0.0428,  0.0368,  ...,  0.0503,  0.0267,  0.0413]],\n",
       "\n",
       "         ...,\n",
       "\n",
       "         [[-0.0744, -0.0620, -0.0610,  ..., -0.0583, -0.0644, -0.0655],\n",
       "          [-0.0594, -0.0874, -0.0512,  ..., -0.0767, -0.0679, -0.0642],\n",
       "          [-0.0839, -0.0807, -0.0776,  ..., -0.0625, -0.0803, -0.0712],\n",
       "          ...,\n",
       "          [-0.0495, -0.0695, -0.1078,  ..., -0.0628, -0.0782, -0.0584],\n",
       "          [-0.0686, -0.0609, -0.0672,  ..., -0.0765, -0.0714, -0.0657],\n",
       "          [-0.0697, -0.0618, -0.0817,  ..., -0.0741, -0.0678, -0.0753]],\n",
       "\n",
       "         [[-0.0324, -0.0288, -0.0240,  ..., -0.0214, -0.0292, -0.0282],\n",
       "          [-0.0260, -0.0476, -0.0233,  ..., -0.0229, -0.0336, -0.0184],\n",
       "          [-0.0274, -0.0573, -0.0018,  ..., -0.0091, -0.0301, -0.0371],\n",
       "          ...,\n",
       "          [-0.0126, -0.0300, -0.0218,  ..., -0.0146, -0.0350, -0.0282],\n",
       "          [-0.0244, -0.0313, -0.0146,  ..., -0.0116, -0.0355, -0.0389],\n",
       "          [-0.0243, -0.0268, -0.0512,  ..., -0.0476, -0.0167, -0.0278]],\n",
       "\n",
       "         [[-0.1180, -0.1275, -0.1108,  ..., -0.1129, -0.1113, -0.1264],\n",
       "          [-0.1231, -0.1216, -0.1295,  ..., -0.1023, -0.1086, -0.1275],\n",
       "          [-0.1355, -0.0935, -0.0941,  ..., -0.1201, -0.1026, -0.1287],\n",
       "          ...,\n",
       "          [-0.1258, -0.1059, -0.1005,  ..., -0.1185, -0.1088, -0.1328],\n",
       "          [-0.0990, -0.1167, -0.0930,  ..., -0.1205, -0.0895, -0.1238],\n",
       "          [-0.1063, -0.1371, -0.1192,  ..., -0.1284, -0.1204, -0.1294]]]],\n",
       "       grad_fn=<ConvolutionBackward0>)"
      ]
     },
     "execution_count": 40,
     "metadata": {},
     "output_type": "execute_result"
    }
   ],
   "source": [
    "import torch.nn as nn\n",
    "new_conv = nn.Sequential(\n",
    "            nn.Conv2d(3, 64, kernel_size=3, padding=(1,1)),\n",
    "            nn.SiLU(),\n",
    "            nn.Conv2d(64, 128, kernel_size=3, padding=(1,1)),\n",
    "            nn.SiLU(),\n",
    "            nn.Conv2d(128, 64, kernel_size=3, padding=(1,1)),\n",
    "            nn.SiLU(),\n",
    "            nn.Conv2d(64, 64, kernel_size=1, padding=0)\n",
    "        )\n",
    "\n",
    "new_conv(torch.randn(12, 3, 32, 32))"
   ]
  },
  {
   "cell_type": "code",
   "execution_count": 16,
   "metadata": {},
   "outputs": [
    {
     "name": "stdout",
     "output_type": "stream",
     "text": [
      "<class 'numpy.ndarray'>\n"
     ]
    },
    {
     "data": {
      "image/png": "[encoded data removed]",
      "text/plain": [
       "<Figure size 640x480 with 2 Axes>"
      ]
     },
     "metadata": {},
     "output_type": "display_data"
    }
   ],
   "source": [
    "import cv2 as cv\n",
    "from matplotlib import pyplot as plt\n",
    "\n",
    "img = cv.imread('messi5.jpeg')\n",
    "print(type(img))\n",
    "gray = cv.cvtColor(img, cv.COLOR_BGR2GRAY)\n",
    "edges = cv.Canny(gray,100,200)\n",
    "\n",
    "im_rgb = cv.cvtColor(img, cv.COLOR_BGR2RGB)\n",
    "plt.subplot(121),plt.imshow(im_rgb,cmap = 'Blues')\n",
    "plt.title('Original Image'), plt.xticks([]), plt.yticks([])\n",
    "plt.subplot(122),plt.imshow(edges,cmap = 'bone')\n",
    "plt.title('Edge Image'), plt.xticks([]), plt.yticks([])\n",
    "\n",
    "plt.show()"
   ]
  },
  {
   "cell_type": "code",
   "execution_count": 51,
   "metadata": {},
   "outputs": [
    {
     "data": {
      "text/plain": [
       "array([[[ 9.55198407e-01,  6.26815557e-01,  1.36420786e+00, ...,\n",
       "          8.46152782e-01, -1.59502506e+00, -9.63093400e-01],\n",
       "        [-4.80628967e-01,  7.01862156e-01, -4.29769248e-01, ...,\n",
       "         -7.97766209e-01, -4.08873528e-01, -4.31046396e-01],\n",
       "        [-8.03162575e-01, -6.82195127e-01, -8.52447867e-01, ...,\n",
       "         -3.09636474e-01, -4.93637145e-01,  7.30681539e-01],\n",
       "        ...,\n",
       "        [-2.40904346e-01,  2.84270763e-01, -2.14178652e-01, ...,\n",
       "         -3.24696600e-01, -4.48550582e-01, -4.24472898e-01],\n",
       "        [-1.22578454e+00,  2.22156823e-01,  1.11338472e+00, ...,\n",
       "          2.89872855e-01, -4.71141160e-01, -8.09241682e-02],\n",
       "        [-8.83539617e-01,  4.02206369e-02, -5.69303930e-01, ...,\n",
       "         -1.09776962e+00,  1.09197187e+00, -1.14306045e+00]],\n",
       "\n",
       "       [[-2.40280569e-01, -1.07528791e-01, -1.32566190e+00, ...,\n",
       "         -1.17993462e+00, -1.92464209e+00,  1.51024914e+00],\n",
       "        [ 3.58276844e-01,  1.13055790e-02, -6.92781389e-01, ...,\n",
       "         -2.21898854e-01, -1.47650397e+00, -5.99197984e-01],\n",
       "        [ 1.08987081e+00,  3.23622078e-01, -6.96337104e-01, ...,\n",
       "          2.32565731e-01, -1.21174395e-01, -2.09088874e+00],\n",
       "        ...,\n",
       "        [-1.08793235e+00, -4.47257638e-01, -5.29799998e-01, ...,\n",
       "         -1.03809845e+00, -8.38905454e-01,  7.90407717e-01],\n",
       "        [-5.13289392e-01,  9.00354683e-01, -8.34240690e-02, ...,\n",
       "         -1.67181432e+00,  4.83298481e-01,  1.27250636e+00],\n",
       "        [ 1.16637520e-01,  1.47620365e-01, -1.66145647e+00, ...,\n",
       "         -1.28633189e+00,  1.87635684e+00, -1.01343346e+00]],\n",
       "\n",
       "       [[ 2.87919968e-01, -9.81968403e-01, -5.35394669e-01, ...,\n",
       "          4.42397296e-01,  1.15491140e+00, -5.28677046e-01],\n",
       "        [ 2.05678248e+00,  2.35033059e+00,  5.78755327e-02, ...,\n",
       "         -2.36450121e-01, -1.28263390e+00,  1.02186978e+00],\n",
       "        [ 3.90064120e-01,  1.24534452e+00,  3.41756165e-01, ...,\n",
       "         -2.53236961e+00, -1.60651505e+00, -5.24355650e-01],\n",
       "        ...,\n",
       "        [-5.92870593e-01, -2.60502040e-01,  1.10009417e-01, ...,\n",
       "         -1.47962832e+00, -9.92364228e-01,  1.72415674e+00],\n",
       "        [-1.53578269e+00,  2.20451370e-01, -1.28767356e-01, ...,\n",
       "          1.38118970e+00,  6.12715960e-01, -1.36324179e+00],\n",
       "        [-6.45746052e-01,  2.19642863e-01,  1.89531222e-01, ...,\n",
       "          4.36767936e-01, -1.60397029e+00, -1.44159243e-01]],\n",
       "\n",
       "       [[-2.19654188e-01,  1.41308630e+00,  9.18395698e-01, ...,\n",
       "         -1.56345880e+00, -4.97118920e-01, -5.75332701e-01],\n",
       "        [ 1.09958148e+00,  5.48008502e-01, -9.29386914e-01, ...,\n",
       "         -9.49891470e-03, -8.82483795e-02, -9.29205000e-01],\n",
       "        [ 6.10903978e-01, -9.73568559e-01, -1.74660206e-01, ...,\n",
       "          4.70275342e-01, -8.23250592e-01,  8.92609000e-01],\n",
       "        ...,\n",
       "        [ 6.00919068e-01, -8.56171370e-01,  8.66799176e-01, ...,\n",
       "          3.56648654e-01,  8.72455180e-01,  1.41617048e+00],\n",
       "        [ 1.46703446e+00,  1.00053775e+00, -1.05877034e-01, ...,\n",
       "         -2.63407499e-01,  2.56385475e-01,  6.51493192e-01],\n",
       "        [ 2.07903400e-01, -7.96217978e-01,  1.52454793e-01, ...,\n",
       "         -1.11894357e+00,  6.28451169e-01, -1.60829949e+00]],\n",
       "\n",
       "       [[-2.99418628e-01, -1.04128861e+00,  2.25316241e-01, ...,\n",
       "         -8.65067005e-01,  2.32031882e-01,  2.09197235e+00],\n",
       "        [-1.57734826e-01,  9.95132148e-01,  5.51184833e-01, ...,\n",
       "         -8.45557868e-01,  1.26134919e-03,  3.81001204e-01],\n",
       "        [-6.07371449e-01, -9.67574418e-01, -2.89247721e-01, ...,\n",
       "          1.09169424e+00, -1.36869752e+00, -8.38807762e-01],\n",
       "        ...,\n",
       "        [-3.22600603e-01,  1.50004637e+00,  1.17833877e+00, ...,\n",
       "         -1.08656013e+00,  1.06428635e+00, -1.53792977e+00],\n",
       "        [ 8.85664165e-01,  7.59004653e-02,  7.80759275e-01, ...,\n",
       "          1.30019772e+00, -1.69768691e-01, -2.17928961e-02],\n",
       "        [ 1.74021018e+00, -9.27110910e-01, -1.57173848e+00, ...,\n",
       "         -1.57152601e-02,  1.68147838e+00,  1.97985172e+00]]],\n",
       "      dtype=float32)"
      ]
     },
     "execution_count": 51,
     "metadata": {},
     "output_type": "execute_result"
    }
   ],
   "source": [
    "\n",
    "# import torchvision\n",
    "\n",
    "# # torch.tensor(img)\n",
    "# aa = torchvision.transforms.Grayscale(torch.tensor(img))\n",
    "# aa.numpy()\n",
    "\n",
    "torch.randn(5,32,32).numpy()"
   ]
  },
  {
   "cell_type": "code",
   "execution_count": 18,
   "metadata": {},
   "outputs": [],
   "source": []
  }
 ],
 "metadata": {
  "kernelspec": {
   "display_name": "Python 3",
   "language": "python",
   "name": "python3"
  },
  "language_info": {
   "codemirror_mode": {
    "name": "ipython",
    "version": 3
   },
   "file_extension": ".py",
   "mimetype": "text/x-python",
   "name": "python",
   "nbconvert_exporter": "python",
   "pygments_lexer": "ipython3",
   "version": "3.10.13"
  }
 },
 "nbformat": 4,
 "nbformat_minor": 2
}
