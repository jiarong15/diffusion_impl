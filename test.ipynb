{
 "cells": [
  {
   "cell_type": "code",
   "execution_count": null,
   "metadata": {},
   "outputs": [],
   "source": [
    "import torch\n",
    "import torch.nn as nn\n",
    "\n",
    "\n",
    "def noise_images(x, t):\n",
    "    beta = torch.linspace(1e-4, 0.02, 1000)\n",
    "    alpha = 1. - beta\n",
    "    alpha_hat = torch.cumprod(alpha, dim=0)\n",
    "\n",
    "    sqrt_alpha_hat = torch.sqrt(alpha_hat[t])[:, None, None, None]\n",
    "    sqrt_one_minus_alpha_hat = torch.sqrt(1. - alpha_hat[t])[:, None, None, None]\n",
    "\n",
    "    epsilon = torch.rand_like(x)\n",
    "    return sqrt_alpha_hat * x + sqrt_one_minus_alpha_hat * epsilon, epsilon\n",
    "\n",
    "\n",
    "def pos_encoding(t, channels):\n",
    "    even_inv_freq = 1.0 / (10000**(torch.arange(0, channels, 2).float() / channels))\n",
    "    odd_inv_freq = 1.0 / (10000**(torch.arange(1, channels, 2).float() / channels))\n",
    "\n",
    "    pos_even_enc_a = torch.sin(t.repeat(1, channels // 2) * even_inv_freq)\n",
    "    pos_odd_enc_b = torch.cos(t.repeat(1, channels // 2) * odd_inv_freq)\n",
    "\n",
    "    pos_enc = torch.cat([pos_even_enc_a, pos_odd_enc_b], dim=-1)\n",
    "    return pos_enc\n"
   ]
  },
  {
   "cell_type": "code",
   "execution_count": null,
   "metadata": {},
   "outputs": [],
   "source": [
    "t = torch.randint(low=1, high=1000, size=(5,))\n",
    "images = torch.randn(5, 64, 64)\n",
    "x_t, noise = noise_images(images, t)\n",
    "# x_t shape is (5,5,64,64)\n",
    "# noise shape is (5,64,64)"
   ]
  },
  {
   "cell_type": "code",
   "execution_count": null,
   "metadata": {},
   "outputs": [],
   "source": [
    "time_dim, emb_dim = 256, 256\n",
    "out_channels = 128\n",
    "t = t.unsqueeze(-1).type(torch.float)\n",
    "t = pos_encoding(t, time_dim) # (5,256)"
   ]
  },
  {
   "cell_type": "code",
   "execution_count": null,
   "metadata": {},
   "outputs": [],
   "source": [
    "emb_layer = nn.Sequential(nn.SiLU(),nn.Linear(emb_dim, out_channels))\n",
    "emb_layer(t)"
   ]
  },
  {
   "cell_type": "code",
   "execution_count": null,
   "metadata": {},
   "outputs": [],
   "source": [
    "x_t.shape"
   ]
  },
  {
   "cell_type": "code",
   "execution_count": null,
   "metadata": {},
   "outputs": [],
   "source": [
    "channels = 5\n",
    "size = 16\n",
    "\n",
    "x_t.view(-1, channels, size * size).swapaxes(1,2).shape\n",
    "# "
   ]
  },
  {
   "cell_type": "code",
   "execution_count": null,
   "metadata": {},
   "outputs": [],
   "source": [
    "layer = nn.LayerNorm([5])\n",
    "x = torch.randn(5, 5, 64, 64)\n",
    "k = torch.randn(80,256,5)\n",
    "layer(k).shape\n",
    "self_mha = nn.MultiheadAttention(5, 5, batch_first=True)\n",
    "self_mha(k,k,k)[0] + k\n",
    "\n",
    "ff_self = nn.Sequential(\n",
    "    nn.LayerNorm([5]),\n",
    "    nn.Linear(5, 5),\n",
    "    nn.GELU(),\n",
    "    nn.Linear(5, 5)\n",
    ")"
   ]
  },
  {
   "cell_type": "code",
   "execution_count": null,
   "metadata": {},
   "outputs": [],
   "source": [
    "# ff_self(self_mha(k,k,k)[0] + k).shape\n",
    "# \n",
    "torch.randn(80,256,5).swapaxes(2, 1).view(-1, 5, 16, 16).shape"
   ]
  },
  {
   "cell_type": "code",
   "execution_count": null,
   "metadata": {},
   "outputs": [],
   "source": [
    "all_images_in_this_epoch = torch.tensor(())"
   ]
  },
  {
   "cell_type": "code",
   "execution_count": null,
   "metadata": {},
   "outputs": [],
   "source": [
    "image1 = images[0]\n",
    "image2 = images[1]\n",
    "image2.shape"
   ]
  },
  {
   "cell_type": "code",
   "execution_count": null,
   "metadata": {},
   "outputs": [],
   "source": [
    "all_images_in_this_epoch = torch.cat((all_images_in_this_epoch, images), 0)\n",
    "all_images_in_this_epoch"
   ]
  },
  {
   "cell_type": "code",
   "execution_count": null,
   "metadata": {},
   "outputs": [],
   "source": [
    "all_images_in_this_epoch = torch.cat((all_images_in_this_epoch, image2), -2)\n",
    "all_images_in_this_epoch"
   ]
  },
  {
   "cell_type": "code",
   "execution_count": null,
   "metadata": {},
   "outputs": [],
   "source": [
    "from datasets import load_dataset\n",
    "ds = load_dataset(\"uoft-cs/cifar10\")\n",
    "ds"
   ]
  },
  {
   "cell_type": "code",
   "execution_count": null,
   "metadata": {},
   "outputs": [],
   "source": [
    "next(iter(DataLoader(ds['train'], batch_size=12, shuffle=True)))"
   ]
  },
  {
   "cell_type": "code",
   "execution_count": null,
   "metadata": {},
   "outputs": [],
   "source": [
    "import torchvision.transforms as transforms\n",
    "\n",
    "imggg = ds['train']['img'][0]\n",
    "transform = transforms.Compose([transforms.ToTensor()])\n",
    "tensor = transform(imggg)\n",
    "tensor.shape"
   ]
  },
  {
   "cell_type": "code",
   "execution_count": null,
   "metadata": {},
   "outputs": [],
   "source": [
    "from torch.utils.data import DataLoader\n",
    "\n",
    "loader = DataLoader(ds['train'], batch_size=12, shuffle=True)\n",
    "for train_features in loader:\n",
    "    print(train_features)\n",
    "    # print(train_labels)"
   ]
  },
  {
   "cell_type": "code",
   "execution_count": null,
   "metadata": {},
   "outputs": [],
   "source": [
    "import torch\n",
    "# import numpy as np\n",
    "from torch.utils.data import TensorDataset, DataLoader\n",
    "import torchvision.transforms as transforms\n",
    "\n",
    "transform = transforms.Compose([transforms.ToTensor()])\n",
    "\n",
    "tensor_x = torch.stack(list(map(lambda PILimg: transform(PILimg), ds['train']['img'])))\n",
    "tensor_y = torch.Tensor(ds['train']['label'])\n",
    "\n",
    "my_dataset = TensorDataset(tensor_x, tensor_y) # create your datset\n",
    "my_dataloader = DataLoader(my_dataset)"
   ]
  },
  {
   "cell_type": "code",
   "execution_count": null,
   "metadata": {},
   "outputs": [],
   "source": [
    "for train_features, train_labels in my_dataloader:\n",
    "    print(train_features)\n",
    "    print(train_labels)\n",
    "    break"
   ]
  },
  {
   "cell_type": "code",
   "execution_count": null,
   "metadata": {},
   "outputs": [],
   "source": [
    "import torch\n",
    "torch.cuda.is_available()"
   ]
  },
  {
   "cell_type": "code",
   "execution_count": null,
   "metadata": {},
   "outputs": [],
   "source": [
    "import torch.nn as nn\n",
    "from torch.nn import functional as F\n",
    "import torch\n",
    "\n",
    "class DoubleConv(nn.Module):\n",
    "    '''\n",
    "    Used in initial convolution of images as well as \n",
    "    at the bottom of the the U shape net.\n",
    "    '''\n",
    "    def __init__(self, in_channels, out_channels, mid_channels=None, residual=False):\n",
    "\n",
    "        super().__init__()\n",
    "        self.residual = residual\n",
    "        self.normalizing_group_num = 1\n",
    "        if not mid_channels:\n",
    "            mid_channels = out_channels\n",
    "        \n",
    "        ## The following layers are applied sequentially in the\n",
    "        ## defined order as follows.\n",
    "        self.double_conv = nn.Sequential(\n",
    "\n",
    "            ## Weights of conv are learned through backpropagation\n",
    "            ## We are transforming the channels number from in_channels to mid_channels\n",
    "            nn.Conv2d(in_channels, mid_channels, kernel_size=3, padding=1, bias=False),\n",
    "\n",
    "            ## We normalize the values group wise by separating the channels\n",
    "            ## the group number. In this case it is 1. Output's shape\n",
    "            ## remains unchanged from the input shape.\n",
    "            nn.GroupNorm(self.normalizing_group_num, mid_channels),\n",
    "\n",
    "            ## Apply Gaussian error linear units\n",
    "            nn.GELU(),\n",
    "\n",
    "            ## We are transforming the channels number from mid_channels to out_channels\n",
    "            nn.Conv2d(mid_channels, out_channels, kernel_size=3, padding=1, bias=False),\n",
    "\n",
    "            ## Perform group normalization once again\n",
    "            ## n×c×w×h -> swh×gn where c = sg\n",
    "            nn.GroupNorm(self.normalizing_group_num, out_channels)\n",
    "        )\n",
    "\n",
    "\n",
    "    def forward(self, x):\n",
    "        ## We apply gelu when we have skip connections to the UNet decoder\n",
    "        if self.residual:\n",
    "            return F.gelu(x + self.double_conv(x))\n",
    "        return self.double_conv(x) \n",
    "    \n",
    "\n",
    "class newer(nn.Module):\n",
    "    def __init__(self, in_channels, out_channels):\n",
    "        super().__init__()\n",
    "        self.inc = DoubleConv(in_channels, out_channels)\n",
    "    \n",
    "\n",
    "a = newer(10,20)\n",
    "# a.inc[0]\n",
    "\n",
    "nn.ModuleList([newer(10,687), DoubleConv(456, 7)])[0](torch.randn(5, 10, 687))\n",
    "\n"
   ]
  },
  {
   "cell_type": "code",
   "execution_count": null,
   "metadata": {},
   "outputs": [],
   "source": [
    "a.load_state_dict(torch.load(PATH), strict=True)\n",
    "a.double_conv"
   ]
  },
  {
   "cell_type": "code",
   "execution_count": null,
   "metadata": {},
   "outputs": [],
   "source": [
    "import os\n",
    "os.path.exists('./model.pt')"
   ]
  },
  {
   "cell_type": "code",
   "execution_count": null,
   "metadata": {},
   "outputs": [],
   "source": [
    "for p in model.parameters():\n",
    "    p.detach().zero_()\n",
    "    print(p)"
   ]
  },
  {
   "cell_type": "code",
   "execution_count": null,
   "metadata": {},
   "outputs": [],
   "source": [
    "import copy\n",
    "class EMA:\n",
    "    def __init__(self, beta):\n",
    "        self.beta = beta\n",
    "        self.step = 0\n",
    "\n",
    "    def update_model_average(self, ema_model, model):\n",
    "        for curr_param, ema_param in zip(model.parameters(), ema_model.parameters()):\n",
    "            old_weight, new_weight = ema_param.data, curr_param.data\n",
    "            ema_param.data = self.update_average(old_weight, new_weight)\n",
    "            \n",
    "    ## We have a apply the smoothing where the EMA model\n",
    "    ## parameters will be updated by the moving average\n",
    "    ## of the old and new weights.\n",
    "    def update_average(self, old_weight, new_weight):\n",
    "        return old_weight * self.beta + (1 - self.beta) * new_weight\n",
    "    \n",
    "\n",
    "    def reset_parameters(self, ema_model, model):\n",
    "        ema_model.load_state_dict(model.state_dict())\n",
    "\n",
    "\n",
    "    ## At the start, even as we train the non ema model, \n",
    "    ## we just allow the ema model take copy the learnt weights\n",
    "    ## from the non ema model. We don't want to over average early\n",
    "    ## as this overemphasizes the the early stage weights.\n",
    "    ## For simplicity, we start the averaging after 2000 steps\n",
    "    ## of non ema model training (assumes that our data and \n",
    "    ## no. of epochs will exceed and best be more 2x more than 2000)\n",
    "    def step_ema(self, ema_model, model, step_start_ema=2000):\n",
    "        if self.step < step_start_ema:\n",
    "            self.reset_parameters(ema_model, model)\n",
    "            self.step += 1\n",
    "            return\n",
    "        self.update_model_average(ema_model, model)\n",
    "        self.step += 1\n",
    "\n",
    "ema = EMA(beta=0.995)\n",
    "ema_model = copy.deepcopy(model).eval().requires_grad_(False)"
   ]
  },
  {
   "cell_type": "code",
   "execution_count": null,
   "metadata": {},
   "outputs": [],
   "source": [
    "copy.deepcopy(model).eval()"
   ]
  },
  {
   "cell_type": "code",
   "execution_count": null,
   "metadata": {},
   "outputs": [],
   "source": [
    "class Parent1:\n",
    "    def __init__(self, a, b, c=2):\n",
    "        self.a = a\n",
    "        self.b = b\n",
    "\n",
    "        if c < 3:\n",
    "            self.c = 567567\n",
    "    \n",
    "    def aaa(self, neww):\n",
    "        return neww\n",
    "    \n",
    "\n",
    "class Parent2:\n",
    "    def __init__(self, k=1, j=56):\n",
    "        self.k = k\n",
    "        self.j = j\n",
    "\n",
    "# class childB(Parent2, Parent1):\n",
    "#     def __init__(self, i):\n",
    "#         super().__init__(b=3,a=4)\n",
    "#         self.i = i\n",
    "            \n",
    "#     def bbb(self, neww):\n",
    "#         return neww + 345\n",
    "\n",
    "\n",
    "class childA(Parent2, Parent1):\n",
    "    def __init__(self, x):\n",
    "        super().__init__()\n",
    "        Parent1.__init__(self, a=3, b=2)\n",
    "        # Parent2.__init__(self, 657, 789)\n",
    "        self.x = x\n",
    "    \n",
    "    def help(self):\n",
    "        print(self.k)\n",
    "        return self.aaa(self.c)\n",
    "\n",
    "a = childA(546)\n",
    "a.help()"
   ]
  },
  {
   "cell_type": "code",
   "execution_count": null,
   "metadata": {},
   "outputs": [],
   "source": [
    "import cv2\n",
    "import torchvision\n",
    "\n",
    "# # Load the image\n",
    "# image = cv2.imread(\"img1.jpeg\")\n",
    "\n",
    "img = cv2.imread('messi5.jpeg', cv2.IMREAD_GRAYSCALE)\n",
    "img = cv2.GaussianBlur(img, (5,5), 0)\n",
    "\n",
    "transforms.Resize\n",
    "\n",
    "\n",
    "img_tensor = torch.tensor(img)\n",
    "print(img_tensor.unsqueeze(0).shape)\n",
    "image = torchvision.transforms.ToPILImage()(img_tensor.unsqueeze(0))\n",
    "\n",
    "out = cv2.Canny(img, 50, 200, L2gradient=True)\n",
    "out"
   ]
  },
  {
   "cell_type": "code",
   "execution_count": null,
   "metadata": {},
   "outputs": [],
   "source": [
    "from torch.utils.data import TensorDataset, DataLoader\n",
    "import torchvision.transforms as transforms\n",
    "from datasets import load_dataset\n",
    "\n",
    "def get_data_loader(batch_size, is_data_loader_shuffle):\n",
    "\n",
    "    ## Load the cifar dataset for a set of images \n",
    "    ## from huggingface for testing purposes\n",
    "    ds = load_dataset(\"uoft-cs/cifar10\")\n",
    "\n",
    "    ## Extra operations to convert data into a dataset and\n",
    "    ## fed in dataloader\n",
    "    transform = transforms.Compose([transforms.ToTensor()])\n",
    "    tensor_x = torch.stack(list(map(lambda PILimg: transform(PILimg), ds['train']['img'])))\n",
    "    tensor_y = torch.LongTensor(ds['train']['label'])\n",
    "\n",
    "    my_dataset = TensorDataset(tensor_x, tensor_y)\n",
    "    my_dataloader = DataLoader(my_dataset,\n",
    "                               batch_size=batch_size,\n",
    "                               shuffle=is_data_loader_shuffle)\n",
    "    return my_dataloader"
   ]
  },
  {
   "cell_type": "code",
   "execution_count": null,
   "metadata": {},
   "outputs": [],
   "source": [
    "for images, labels in get_data_loader(12, True):\n",
    "    print(images.shape)\n",
    "    print(images.unsqueeze(0).shape)\n",
    "    tt = transforms.Compose([transforms.ToPILImage()])\n",
    "    image_jpg = tt(images)\n",
    "    break\n",
    "\n",
    "\n",
    "img.shape"
   ]
  },
  {
   "cell_type": "code",
   "execution_count": null,
   "metadata": {},
   "outputs": [],
   "source": [
    "import torch\n",
    "import cv2\n",
    "import torchvision.transforms as transforms\n",
    "import torchvision.transforms.functional as F\n",
    "import numpy as np\n",
    "import matplotlib.pyplot as plt\n",
    "\n",
    "def grey_and_blur(image):\n",
    "    # images_gray = np.mean(image.numpy(), axis=1)\n",
    "\n",
    "    # Normalize the grayscale image to the range [0, 255]\n",
    "    images_gray_normalized = cv2.normalize(image.numpy(), None, 0, 255, cv2.NORM_MINMAX)\n",
    "    # grayscale_trans = transforms.Grayscale(num_output_channels=1)\n",
    "    blurred_image = cv2.GaussianBlur(images_gray_normalized, (3,3), 0)\n",
    "    blurred_image = blurred_image.astype(np.uint8)\n",
    "    return cv2.Canny(blurred_image, 50, 150)\n",
    "\n",
    "\n",
    "for images, labels in get_data_loader(12, True):\n",
    "    \n",
    "    cv2.imshow('Original', images[0].numpy())\n",
    "     \n",
    "    tt = transforms.Compose([\n",
    "        transforms.Lambda(lambda x: [grey_and_blur(img) for img in x])\n",
    "    ])\n",
    "    image_jpg = tt(images)\n",
    "    # print(image_jpg[0].shape)\n",
    "    # plt.subplot(122), cv2.imshow(torch.tensor(image_jpg[0]))\n",
    "    break\n",
    "\n",
    "\n",
    "# img = cv2.imread('messi5.jpeg', cv2.IMREAD_GRAYSCALE)\n",
    "# img = cv2.GaussianBlur(img, (5,5), 0)\n",
    "\n",
    "# img_tensor = torch.tensor(img)\n",
    "# print(img_tensor.unsqueeze(0).shape)\n",
    "# image = torchvision.transforms.ToPILImage()(img_tensor.unsqueeze(0))\n",
    "# out = cv2.Canny(img, 50, 200, L2gradient=True)\n",
    "# out\n",
    "\n",
    "\n",
    "\n",
    "\n",
    "\n",
    "# np.nonzero(out)"
   ]
  },
  {
   "cell_type": "code",
   "execution_count": null,
   "metadata": {},
   "outputs": [],
   "source": [
    "import cv2 as cv\n",
    "from matplotlib import pyplot as plt\n",
    "import numpy\n",
    "\n",
    "for imgggg in load_dataset(\"uoft-cs/cifar10\")['train']['img']:\n",
    "\n",
    "    new_img = numpy.asarray(imgggg)\n",
    "    (B, G, R) = cv2.split(new_img)\n",
    "\n",
    "    gray = cv.cvtColor(new_img, cv.COLOR_BGR2GRAY)\n",
    "\n",
    "    # edges_new = cv.Canny(gray,100,200)\n",
    "\n",
    "    B_cny = cv2.Canny(B, 100, 200)\n",
    "    G_cny = cv2.Canny(G, 100, 200)\n",
    "    R_cny = cv2.Canny(R, 100, 200)\n",
    "\n",
    "    edges_new = cv2.merge([B_cny, G_cny, R_cny])\n",
    "    # edges_new = np.transpose(edges_new, (2, 0, 1))\n",
    "    print(torch.tensor(edges_new).shape)\n",
    "\n",
    "    im_rgb = cv.cvtColor(new_img, cv.COLOR_BGR2RGB)\n",
    "    print(im_rgb.shape)\n",
    "    plt.subplot(121),plt.imshow(im_rgb,cmap = 'Blues')\n",
    "    plt.title('Original Image'), plt.xticks([]), plt.yticks([])\n",
    "\n",
    "    plt.subplot(122),plt.imshow(edges_new, cmap = 'bone')\n",
    "    plt.title('Edge Image'), plt.xticks([]), plt.yticks([])\n",
    "    break"
   ]
  },
  {
   "cell_type": "code",
   "execution_count": null,
   "metadata": {},
   "outputs": [],
   "source": [
    "ds = load_dataset(\"uoft-cs/cifar10\")\n",
    "\n",
    "def get_canny_edges(PILimg):\n",
    "    trans_img = numpy.asarray(PILimg)\n",
    "\n",
    "    (B, G, R) = cv2.split(trans_img)\n",
    "    B_cny = cv2.Canny(B, 100, 200)\n",
    "    G_cny = cv2.Canny(G, 100, 200)\n",
    "    R_cny = cv2.Canny(R, 100, 200)\n",
    "    edges = cv2.merge([B_cny, G_cny, R_cny])\n",
    "    edges = np.transpose(edges, (2, 0, 1))\n",
    "    return edges\n",
    "\n",
    "transform = transforms.Compose([transforms.ToTensor()])\n",
    "tensor_x = torch.stack(list(map(lambda PILimg: transform(PILimg), ds['train']['img'])))\n",
    "tensor_y = torch.LongTensor(ds['train']['label'])\n",
    "tensor_z = torch.stack(list(map(lambda PILimg: torch.tensor(get_canny_edges(PILimg)), ds['train']['img'])))\n",
    "\n",
    "my_dataset = TensorDataset(tensor_x, tensor_y, tensor_z) # create your datset\n",
    "my_dataloader = DataLoader(my_dataset,\n",
    "                           batch_size=12,\n",
    "                           shuffle=True)\n",
    "\n",
    "\n",
    "for i, (images, labels, edges) in enumerate(my_dataloader):\n",
    "    print(images.shape)\n",
    "    print(edges.shape)\n",
    "    print(labels.shape)\n",
    "\n",
    "    break\n",
    "\n",
    "\n"
   ]
  },
  {
   "cell_type": "code",
   "execution_count": null,
   "metadata": {},
   "outputs": [],
   "source": [
    "torch.randn(12,32,32).shape"
   ]
  },
  {
   "cell_type": "code",
   "execution_count": null,
   "metadata": {},
   "outputs": [],
   "source": [
    "import torch.nn as nn\n",
    "new_conv = nn.Sequential(\n",
    "            nn.Conv2d(3, 64, kernel_size=3, padding=(1,1)),\n",
    "            nn.SiLU(),\n",
    "            nn.Conv2d(64, 128, kernel_size=3, padding=(1,1)),\n",
    "            nn.SiLU(),\n",
    "            nn.Conv2d(128, 64, kernel_size=3, padding=(1,1)),\n",
    "            nn.SiLU(),\n",
    "            nn.Conv2d(64, 64, kernel_size=1, padding=0)\n",
    "        )\n",
    "\n",
    "new_conv(torch.randn(12, 3, 32, 32))"
   ]
  },
  {
   "cell_type": "code",
   "execution_count": null,
   "metadata": {},
   "outputs": [],
   "source": [
    "import cv2 as cv\n",
    "from matplotlib import pyplot as plt\n",
    "\n",
    "img = cv.imread('messi5.jpeg')\n",
    "print(type(img))\n",
    "gray = cv.cvtColor(img, cv.COLOR_BGR2GRAY)\n",
    "edges = cv.Canny(gray,100,200)\n",
    "\n",
    "im_rgb = cv.cvtColor(img, cv.COLOR_BGR2RGB)\n",
    "plt.subplot(121),plt.imshow(im_rgb,cmap = 'Blues')\n",
    "plt.title('Original Image'), plt.xticks([]), plt.yticks([])\n",
    "plt.subplot(122),plt.imshow(edges,cmap = 'bone')\n",
    "plt.title('Edge Image'), plt.xticks([]), plt.yticks([])\n",
    "\n",
    "plt.show()"
   ]
  },
  {
   "cell_type": "code",
   "execution_count": null,
   "metadata": {},
   "outputs": [],
   "source": [
    "\n",
    "# import torchvision\n",
    "\n",
    "# # torch.tensor(img)\n",
    "# aa = torchvision.transforms.Grayscale(torch.tensor(img))\n",
    "# aa.numpy()\n",
    "\n",
    "torch.randn(5,32,32).numpy()"
   ]
  },
  {
   "cell_type": "code",
   "execution_count": 3,
   "metadata": {},
   "outputs": [
    {
     "ename": "AttributeError",
     "evalue": "'Embedding' object has no attribute 'shape'",
     "output_type": "error",
     "traceback": [
      "\u001b[0;31m---------------------------------------------------------------------------\u001b[0m",
      "\u001b[0;31mAttributeError\u001b[0m                            Traceback (most recent call last)",
      "Cell \u001b[0;32mIn[3], line 25\u001b[0m\n\u001b[1;32m     19\u001b[0m bbb \u001b[38;5;241m=\u001b[39m torch\u001b[38;5;241m.\u001b[39mrandn(\u001b[38;5;241m12\u001b[39m)\n\u001b[1;32m     22\u001b[0m \u001b[38;5;66;03m# b.type()\u001b[39;00m\n\u001b[1;32m     23\u001b[0m \n\u001b[1;32m     24\u001b[0m \u001b[38;5;66;03m# b.weight.requires_grad = False\u001b[39;00m\n\u001b[0;32m---> 25\u001b[0m \u001b[38;5;28mprint\u001b[39m(\u001b[43maaaa\u001b[49m\u001b[38;5;241;43m.\u001b[39;49m\u001b[43mshape\u001b[49m)\n\u001b[1;32m     26\u001b[0m aaaa(bbb\u001b[38;5;241m.\u001b[39mto(torch\u001b[38;5;241m.\u001b[39mint64))\n\u001b[1;32m     27\u001b[0m \u001b[38;5;66;03m# # b.type()\u001b[39;00m\n\u001b[1;32m     28\u001b[0m \u001b[38;5;66;03m# # b\u001b[39;00m\n\u001b[1;32m     29\u001b[0m \u001b[38;5;66;03m# print(aa.weight.requires_grad)\u001b[39;00m\n",
      "File \u001b[0;32m/workspaces/diffusion_impl/venv/lib/python3.10/site-packages/torch/nn/modules/module.py:1729\u001b[0m, in \u001b[0;36mModule.__getattr__\u001b[0;34m(self, name)\u001b[0m\n\u001b[1;32m   1727\u001b[0m     \u001b[38;5;28;01mif\u001b[39;00m name \u001b[38;5;129;01min\u001b[39;00m modules:\n\u001b[1;32m   1728\u001b[0m         \u001b[38;5;28;01mreturn\u001b[39;00m modules[name]\n\u001b[0;32m-> 1729\u001b[0m \u001b[38;5;28;01mraise\u001b[39;00m \u001b[38;5;167;01mAttributeError\u001b[39;00m(\u001b[38;5;124mf\u001b[39m\u001b[38;5;124m\"\u001b[39m\u001b[38;5;124m'\u001b[39m\u001b[38;5;132;01m{\u001b[39;00m\u001b[38;5;28mtype\u001b[39m(\u001b[38;5;28mself\u001b[39m)\u001b[38;5;241m.\u001b[39m\u001b[38;5;18m__name__\u001b[39m\u001b[38;5;132;01m}\u001b[39;00m\u001b[38;5;124m'\u001b[39m\u001b[38;5;124m object has no attribute \u001b[39m\u001b[38;5;124m'\u001b[39m\u001b[38;5;132;01m{\u001b[39;00mname\u001b[38;5;132;01m}\u001b[39;00m\u001b[38;5;124m'\u001b[39m\u001b[38;5;124m\"\u001b[39m)\n",
      "\u001b[0;31mAttributeError\u001b[0m: 'Embedding' object has no attribute 'shape'"
     ]
    }
   ],
   "source": [
    "import torch.nn as nn\n",
    "import torch\n",
    "\n",
    "\n",
    "# torch.Size([12, 256])\n",
    "# torch.float32\n",
    "# torch.Size([12])\n",
    "# torch.int64\n",
    "\n",
    "\n",
    "# torch.Size([36, 256])\n",
    "# torch.float32\n",
    "# torch.Size([36])\n",
    "# torch.float32\n",
    "\n",
    "\n",
    "aaaa = nn.Embedding(10, 256)\n",
    "# aa.weight.requires_grad = False\n",
    "bbb = torch.randn(12)\n",
    "\n",
    "\n",
    "# b.type()\n",
    "\n",
    "# b.weight.requires_grad = False\n",
    "print(aaaa.shape)\n",
    "aaaa(bbb.to(torch.int64))\n",
    "# # b.type()\n",
    "# # b\n",
    "# print(aa.weight.requires_grad)"
   ]
  }
 ],
 "metadata": {
  "kernelspec": {
   "display_name": "Python 3",
   "language": "python",
   "name": "python3"
  },
  "language_info": {
   "codemirror_mode": {
    "name": "ipython",
    "version": 3
   },
   "file_extension": ".py",
   "mimetype": "text/x-python",
   "name": "python",
   "nbconvert_exporter": "python",
   "pygments_lexer": "ipython3",
   "version": "3.10.13"
  }
 },
 "nbformat": 4,
 "nbformat_minor": 2
}
