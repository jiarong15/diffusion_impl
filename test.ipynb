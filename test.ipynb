{
 "cells": [
  {
   "cell_type": "code",
   "execution_count": 1,
   "metadata": {},
   "outputs": [],
   "source": [
    "import torch\n",
    "import torch.nn as nn\n",
    "\n",
    "\n",
    "def noise_images(x, t):\n",
    "    beta = torch.linspace(1e-4, 0.02, 1000)\n",
    "    alpha = 1. - beta\n",
    "    alpha_hat = torch.cumprod(alpha, dim=0)\n",
    "\n",
    "    sqrt_alpha_hat = torch.sqrt(alpha_hat[t])[:, None, None, None]\n",
    "    sqrt_one_minus_alpha_hat = torch.sqrt(1. - alpha_hat[t])[:, None, None, None]\n",
    "\n",
    "    epsilon = torch.rand_like(x)\n",
    "    return sqrt_alpha_hat * x + sqrt_one_minus_alpha_hat * epsilon, epsilon\n",
    "\n",
    "\n",
    "def pos_encoding(t, channels):\n",
    "    even_inv_freq = 1.0 / (10000**(torch.arange(0, channels, 2).float() / channels))\n",
    "    odd_inv_freq = 1.0 / (10000**(torch.arange(1, channels, 2).float() / channels))\n",
    "\n",
    "    pos_even_enc_a = torch.sin(t.repeat(1, channels // 2) * even_inv_freq)\n",
    "    pos_odd_enc_b = torch.cos(t.repeat(1, channels // 2) * odd_inv_freq)\n",
    "\n",
    "    pos_enc = torch.cat([pos_even_enc_a, pos_odd_enc_b], dim=-1)\n",
    "    return pos_enc\n"
   ]
  },
  {
   "cell_type": "code",
   "execution_count": 10,
   "metadata": {},
   "outputs": [],
   "source": [
    "t = torch.randint(low=1, high=1000, size=(5,))\n",
    "images = torch.randn(5, 64, 64)\n",
    "x_t, noise = noise_images(images, t)\n",
    "# x_t shape is (5,5,64,64)\n",
    "# noise shape is (5,64,64)"
   ]
  },
  {
   "cell_type": "code",
   "execution_count": 11,
   "metadata": {},
   "outputs": [],
   "source": [
    "time_dim, emb_dim = 256, 256\n",
    "out_channels = 128\n",
    "t = t.unsqueeze(-1).type(torch.float)\n",
    "t = pos_encoding(t, time_dim) # (5,256)"
   ]
  },
  {
   "cell_type": "code",
   "execution_count": 17,
   "metadata": {},
   "outputs": [
    {
     "data": {
      "text/plain": [
       "torch.Size([5, 128])"
      ]
     },
     "execution_count": 17,
     "metadata": {},
     "output_type": "execute_result"
    }
   ],
   "source": [
    "emb_layer = nn.Sequential(nn.SiLU(),nn.Linear(emb_dim, out_channels))\n",
    "emb_layer(t)"
   ]
  },
  {
   "cell_type": "code",
   "execution_count": 16,
   "metadata": {},
   "outputs": [
    {
     "data": {
      "text/plain": [
       "torch.Size([5, 5, 64, 64])"
      ]
     },
     "execution_count": 16,
     "metadata": {},
     "output_type": "execute_result"
    }
   ],
   "source": [
    "x_t.shape"
   ]
  },
  {
   "cell_type": "code",
   "execution_count": 19,
   "metadata": {},
   "outputs": [
    {
     "data": {
      "text/plain": [
       "torch.Size([80, 256, 5])"
      ]
     },
     "execution_count": 19,
     "metadata": {},
     "output_type": "execute_result"
    }
   ],
   "source": [
    "channels = 5\n",
    "size = 16\n",
    "\n",
    "x_t.view(-1, channels, size * size).swapaxes(1,2).shape\n",
    "# "
   ]
  },
  {
   "cell_type": "code",
   "execution_count": 21,
   "metadata": {},
   "outputs": [],
   "source": [
    "layer = nn.LayerNorm([5])\n",
    "x = torch.randn(5, 5, 64, 64)\n",
    "k = torch.randn(80,256,5)\n",
    "layer(k).shape\n",
    "self_mha = nn.MultiheadAttention(5, 5, batch_first=True)\n",
    "self_mha(k,k,k)[0] + k\n",
    "\n",
    "ff_self = nn.Sequential(\n",
    "    nn.LayerNorm([5]),\n",
    "    nn.Linear(5, 5),\n",
    "    nn.GELU(),\n",
    "    nn.Linear(5, 5)\n",
    ")"
   ]
  },
  {
   "cell_type": "code",
   "execution_count": 28,
   "metadata": {},
   "outputs": [
    {
     "data": {
      "text/plain": [
       "torch.Size([80, 5, 16, 16])"
      ]
     },
     "execution_count": 28,
     "metadata": {},
     "output_type": "execute_result"
    }
   ],
   "source": [
    "# ff_self(self_mha(k,k,k)[0] + k).shape\n",
    "# \n",
    "torch.randn(80,256,5).swapaxes(2, 1).view(-1, 5, 16, 16).shape"
   ]
  },
  {
   "cell_type": "code",
   "execution_count": 32,
   "metadata": {},
   "outputs": [],
   "source": [
    "all_images_in_this_epoch = torch.tensor(())"
   ]
  },
  {
   "cell_type": "code",
   "execution_count": 31,
   "metadata": {},
   "outputs": [
    {
     "data": {
      "text/plain": [
       "torch.Size([64, 64])"
      ]
     },
     "execution_count": 31,
     "metadata": {},
     "output_type": "execute_result"
    }
   ],
   "source": [
    "image1 = images[0]\n",
    "image2 = images[1]\n",
    "image2.shape"
   ]
  },
  {
   "cell_type": "code",
   "execution_count": 33,
   "metadata": {},
   "outputs": [
    {
     "data": {
      "text/plain": [
       "tensor([[[ 1.2888,  0.1140, -0.6094,  ..., -0.3752,  0.6831,  1.4313],\n",
       "         [-1.7713, -0.4711, -0.8615,  ...,  0.6954,  0.1747,  0.4515],\n",
       "         [-1.9272, -1.3402,  0.0332,  ..., -0.1877,  1.4132,  1.6464],\n",
       "         ...,\n",
       "         [ 1.1612,  1.2506,  0.5571,  ..., -0.2541, -0.2183, -0.1054],\n",
       "         [ 1.2593,  1.2331,  0.4734,  ..., -0.7725,  0.1185,  0.7151],\n",
       "         [-0.9877,  1.6190, -0.4728,  ..., -2.0086,  0.4671,  2.1848]],\n",
       "\n",
       "        [[ 0.1141,  0.6522,  0.6613,  ..., -1.0417,  0.0193,  0.6993],\n",
       "         [ 0.8225,  1.3465,  0.6460,  ..., -1.8531,  1.6483, -0.4997],\n",
       "         [-0.9926, -0.6115, -0.5745,  ..., -0.3355, -0.1471, -0.8726],\n",
       "         ...,\n",
       "         [-0.5540,  0.4068,  1.1737,  ..., -0.4305, -1.6232,  0.9602],\n",
       "         [ 0.3567,  1.0157,  0.5524,  ...,  0.1461,  1.5089,  0.1806],\n",
       "         [ 0.3242,  0.8523, -0.2997,  ...,  1.0955,  0.6705,  0.0528]],\n",
       "\n",
       "        [[-0.3678, -0.2385,  1.3402,  ...,  1.2366, -0.6441, -1.3400],\n",
       "         [ 0.2337,  0.9571, -1.3031,  ...,  0.4202, -1.5278,  0.4948],\n",
       "         [-0.0733,  0.5814,  0.3032,  ..., -1.3582,  0.2720,  0.6611],\n",
       "         ...,\n",
       "         [-0.5542, -0.5165,  0.1784,  ..., -0.9169,  1.2421, -1.3530],\n",
       "         [-0.1429,  2.3981,  1.0114,  ...,  1.5377,  0.2424, -0.0187],\n",
       "         [-1.2636,  1.7163, -1.4381,  ..., -0.4820,  0.0456, -1.4905]],\n",
       "\n",
       "        [[-0.0486,  0.8278, -0.9738,  ...,  0.2968,  0.2073, -1.4151],\n",
       "         [-0.1129, -0.2540,  0.5296,  ...,  0.0943, -0.0457,  0.4352],\n",
       "         [-0.1886, -0.2283,  1.0737,  ...,  2.5899, -0.8886, -0.0528],\n",
       "         ...,\n",
       "         [ 0.1238, -1.0191,  1.5297,  ..., -1.8330, -1.2786,  1.0597],\n",
       "         [ 0.6922, -0.2543,  0.0912,  ..., -0.4245, -1.6833,  0.9423],\n",
       "         [-0.5833, -1.2478,  1.3565,  ...,  0.0930, -0.3680, -0.0851]],\n",
       "\n",
       "        [[ 1.1284,  0.1236,  1.0441,  ...,  0.9731,  0.7413, -1.1312],\n",
       "         [-1.8159, -0.7687,  1.4914,  ..., -0.3601,  1.2763, -1.6114],\n",
       "         [ 0.8527, -0.2204, -0.5857,  ..., -1.8552,  0.6912,  0.9213],\n",
       "         ...,\n",
       "         [-1.7404,  1.0601, -0.5053,  ..., -0.5353, -0.1101, -0.2007],\n",
       "         [ 1.4609, -1.1010,  0.3357,  ...,  0.3053, -0.0681, -0.0185],\n",
       "         [ 0.1591,  0.3912,  0.8791,  ...,  0.1867,  0.3168, -0.2360]]])"
      ]
     },
     "execution_count": 33,
     "metadata": {},
     "output_type": "execute_result"
    }
   ],
   "source": [
    "all_images_in_this_epoch = torch.cat((all_images_in_this_epoch, images), 0)\n",
    "all_images_in_this_epoch"
   ]
  },
  {
   "cell_type": "code",
   "execution_count": 30,
   "metadata": {},
   "outputs": [
    {
     "data": {
      "text/plain": [
       "tensor([[ 1.2888,  0.1140, -0.6094,  ..., -0.3752,  0.6831,  1.4313],\n",
       "        [-1.7713, -0.4711, -0.8615,  ...,  0.6954,  0.1747,  0.4515],\n",
       "        [-1.9272, -1.3402,  0.0332,  ..., -0.1877,  1.4132,  1.6464],\n",
       "        ...,\n",
       "        [-0.5540,  0.4068,  1.1737,  ..., -0.4305, -1.6232,  0.9602],\n",
       "        [ 0.3567,  1.0157,  0.5524,  ...,  0.1461,  1.5089,  0.1806],\n",
       "        [ 0.3242,  0.8523, -0.2997,  ...,  1.0955,  0.6705,  0.0528]])"
      ]
     },
     "execution_count": 30,
     "metadata": {},
     "output_type": "execute_result"
    }
   ],
   "source": [
    "all_images_in_this_epoch = torch.cat((all_images_in_this_epoch, image2), -2)\n",
    "all_images_in_this_epoch"
   ]
  },
  {
   "cell_type": "code",
   "execution_count": 1,
   "metadata": {},
   "outputs": [
    {
     "name": "stderr",
     "output_type": "stream",
     "text": [
      "/workspaces/codespaces-blank/venv/lib/python3.10/site-packages/tqdm/auto.py:21: TqdmWarning: IProgress not found. Please update jupyter and ipywidgets. See https://ipywidgets.readthedocs.io/en/stable/user_install.html\n",
      "  from .autonotebook import tqdm as notebook_tqdm\n"
     ]
    },
    {
     "data": {
      "text/plain": [
       "DatasetDict({\n",
       "    train: Dataset({\n",
       "        features: ['img', 'label'],\n",
       "        num_rows: 50000\n",
       "    })\n",
       "    test: Dataset({\n",
       "        features: ['img', 'label'],\n",
       "        num_rows: 10000\n",
       "    })\n",
       "})"
      ]
     },
     "execution_count": 1,
     "metadata": {},
     "output_type": "execute_result"
    }
   ],
   "source": [
    "from datasets import load_dataset\n",
    "ds = load_dataset(\"uoft-cs/cifar10\")\n",
    "ds"
   ]
  },
  {
   "cell_type": "code",
   "execution_count": null,
   "metadata": {},
   "outputs": [],
   "source": [
    "next(iter(DataLoader(ds['train'], batch_size=12, shuffle=True)))"
   ]
  },
  {
   "cell_type": "code",
   "execution_count": 62,
   "metadata": {},
   "outputs": [
    {
     "data": {
      "text/plain": [
       "torch.Size([3, 32, 32])"
      ]
     },
     "execution_count": 62,
     "metadata": {},
     "output_type": "execute_result"
    }
   ],
   "source": [
    "import torchvision.transforms as transforms\n",
    "\n",
    "imggg = ds['train']['img'][0]\n",
    "transform = transforms.Compose([transforms.ToTensor()])\n",
    "tensor = transform(imggg)\n",
    "tensor.shape"
   ]
  },
  {
   "cell_type": "code",
   "execution_count": null,
   "metadata": {},
   "outputs": [],
   "source": [
    "from torch.utils.data import DataLoader\n",
    "\n",
    "loader = DataLoader(ds['train'], batch_size=12, shuffle=True)\n",
    "for train_features in loader:\n",
    "    print(train_features)\n",
    "    # print(train_labels)"
   ]
  },
  {
   "cell_type": "code",
   "execution_count": 2,
   "metadata": {},
   "outputs": [],
   "source": [
    "import torch\n",
    "# import numpy as np\n",
    "from torch.utils.data import TensorDataset, DataLoader\n",
    "import torchvision.transforms as transforms\n",
    "\n",
    "transform = transforms.Compose([transforms.ToTensor()])\n",
    "\n",
    "tensor_x = torch.stack(list(map(lambda PILimg: transform(PILimg), ds['train']['img'])))\n",
    "tensor_y = torch.Tensor(ds['train']['label'])\n",
    "\n",
    "my_dataset = TensorDataset(tensor_x, tensor_y) # create your datset\n",
    "my_dataloader = DataLoader(my_dataset)"
   ]
  },
  {
   "cell_type": "code",
   "execution_count": 4,
   "metadata": {},
   "outputs": [
    {
     "name": "stdout",
     "output_type": "stream",
     "text": [
      "tensor([[[[0.6980, 0.6980, 0.6980,  ..., 0.6667, 0.6588, 0.6471],\n",
      "          [0.7059, 0.7020, 0.7059,  ..., 0.6784, 0.6706, 0.6588],\n",
      "          [0.6941, 0.6941, 0.6980,  ..., 0.6706, 0.6627, 0.6549],\n",
      "          ...,\n",
      "          [0.4392, 0.4431, 0.4471,  ..., 0.3922, 0.3843, 0.3961],\n",
      "          [0.4392, 0.4392, 0.4431,  ..., 0.4000, 0.4000, 0.4000],\n",
      "          [0.4039, 0.3922, 0.4039,  ..., 0.3608, 0.3647, 0.3569]],\n",
      "\n",
      "         [[0.6902, 0.6902, 0.6902,  ..., 0.6588, 0.6510, 0.6392],\n",
      "          [0.6980, 0.6941, 0.6980,  ..., 0.6706, 0.6627, 0.6510],\n",
      "          [0.6863, 0.6863, 0.6902,  ..., 0.6627, 0.6549, 0.6471],\n",
      "          ...,\n",
      "          [0.4196, 0.4275, 0.4314,  ..., 0.3804, 0.3686, 0.3725],\n",
      "          [0.4000, 0.4039, 0.4039,  ..., 0.3725, 0.3647, 0.3608],\n",
      "          [0.3765, 0.3647, 0.3725,  ..., 0.3294, 0.3373, 0.3294]],\n",
      "\n",
      "         [[0.7412, 0.7412, 0.7412,  ..., 0.7059, 0.6941, 0.6824],\n",
      "          [0.7490, 0.7451, 0.7490,  ..., 0.7137, 0.7059, 0.6941],\n",
      "          [0.7373, 0.7373, 0.7412,  ..., 0.7059, 0.6980, 0.6902],\n",
      "          ...,\n",
      "          [0.4196, 0.4235, 0.4314,  ..., 0.3686, 0.3647, 0.3725],\n",
      "          [0.3961, 0.4000, 0.4039,  ..., 0.3647, 0.3569, 0.3569],\n",
      "          [0.3608, 0.3529, 0.3686,  ..., 0.3137, 0.3137, 0.3020]]]])\n",
      "tensor([0.])\n"
     ]
    }
   ],
   "source": [
    "for train_features, train_labels in my_dataloader:\n",
    "    print(train_features)\n",
    "    print(train_labels)\n",
    "    break"
   ]
  },
  {
   "cell_type": "code",
   "execution_count": 2,
   "metadata": {},
   "outputs": [
    {
     "data": {
      "text/plain": [
       "False"
      ]
     },
     "execution_count": 2,
     "metadata": {},
     "output_type": "execute_result"
    }
   ],
   "source": [
    "import torch\n",
    "torch.cuda.is_available()"
   ]
  },
  {
   "cell_type": "code",
   "execution_count": 5,
   "metadata": {},
   "outputs": [
    {
     "name": "stdout",
     "output_type": "stream",
     "text": [
      "gcc (Ubuntu 9.4.0-1ubuntu1~20.04.2) 9.4.0\n",
      "Copyright (C) 2019 Free Software Foundation, Inc.\n",
      "This is free software; see the source for copying conditions.  There is NO\n",
      "warranty; not even for MERCHANTABILITY or FITNESS FOR A PARTICULAR PURPOSE.\n",
      "\n"
     ]
    }
   ],
   "source": [
    "!gcc --version"
   ]
  }
 ],
 "metadata": {
  "kernelspec": {
   "display_name": "Python 3",
   "language": "python",
   "name": "python3"
  },
  "language_info": {
   "codemirror_mode": {
    "name": "ipython",
    "version": 3
   },
   "file_extension": ".py",
   "mimetype": "text/x-python",
   "name": "python",
   "nbconvert_exporter": "python",
   "pygments_lexer": "ipython3",
   "version": "3.10.13"
  }
 },
 "nbformat": 4,
 "nbformat_minor": 2
}
